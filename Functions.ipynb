{
 "cells": [
  {
   "cell_type": "code",
   "execution_count": 4,
   "id": "0c54445c-389b-41d3-8ba2-af51665bddd8",
   "metadata": {},
   "outputs": [],
   "source": [
    "def intro(name):\n",
    "    print(f\"hello,my name is {name}.\")"
   ]
  },
  {
   "cell_type": "code",
   "execution_count": 5,
   "id": "08d86687-b3c9-4395-bfca-c6a30ad1d0f1",
   "metadata": {},
   "outputs": [
    {
     "ename": "SyntaxError",
     "evalue": "invalid syntax (1102136943.py, line 1)",
     "output_type": "error",
     "traceback": [
      "\u001b[1;36m  Cell \u001b[1;32mIn[5], line 1\u001b[1;36m\u001b[0m\n\u001b[1;33m    def\u001b[0m\n\u001b[1;37m       ^\u001b[0m\n\u001b[1;31mSyntaxError\u001b[0m\u001b[1;31m:\u001b[0m invalid syntax\n"
     ]
    }
   ],
   "source": [
    "def"
   ]
  },
  {
   "cell_type": "code",
   "execution_count": 6,
   "id": "19de63d7-a4a6-4440-bb13-adf6ec80c474",
   "metadata": {},
   "outputs": [
    {
     "data": {
      "text/plain": [
       "<function __main__.intro(name)>"
      ]
     },
     "execution_count": 6,
     "metadata": {},
     "output_type": "execute_result"
    }
   ],
   "source": [
    "intro"
   ]
  },
  {
   "cell_type": "code",
   "execution_count": 7,
   "id": "353a3a25-9fa6-4124-ad7f-8bea20884719",
   "metadata": {},
   "outputs": [
    {
     "ename": "NameError",
     "evalue": "name 'name' is not defined",
     "output_type": "error",
     "traceback": [
      "\u001b[1;31m---------------------------------------------------------------------------\u001b[0m",
      "\u001b[1;31mNameError\u001b[0m                                 Traceback (most recent call last)",
      "Cell \u001b[1;32mIn[7], line 1\u001b[0m\n\u001b[1;32m----> 1\u001b[0m intro(name)\n",
      "\u001b[1;31mNameError\u001b[0m: name 'name' is not defined"
     ]
    }
   ],
   "source": [
    "intro(name)"
   ]
  },
  {
   "cell_type": "code",
   "execution_count": 8,
   "id": "f0fad889-dd17-4352-bacb-d750fa569047",
   "metadata": {},
   "outputs": [
    {
     "name": "stdin",
     "output_type": "stream",
     "text": [
      "Enter a Name rasik\n"
     ]
    }
   ],
   "source": [
    "stud_name = input(\"Enter a Name\")"
   ]
  },
  {
   "cell_type": "code",
   "execution_count": 9,
   "id": "80152211-f8d6-409a-a576-09c5d2919716",
   "metadata": {},
   "outputs": [
    {
     "name": "stdout",
     "output_type": "stream",
     "text": [
      "hello,my name is rasik.\n"
     ]
    }
   ],
   "source": [
    "intro(stud_name)"
   ]
  },
  {
   "cell_type": "code",
   "execution_count": 10,
   "id": "744d4a95-08ea-42f0-8756-bd5ee8b434b4",
   "metadata": {},
   "outputs": [],
   "source": [
    "def evenodd(num):\n",
    "    if int(num)%2 ==0:\n",
    "        print(f\"The number {num} is a even number.\")\n",
    "    else:\n",
    "        print(f\"The number {num} is a odd number.\")"
   ]
  },
  {
   "cell_type": "code",
   "execution_count": 13,
   "id": "7fbbdfa8-3485-4cc5-9dc3-d4a26049b361",
   "metadata": {},
   "outputs": [
    {
     "name": "stdin",
     "output_type": "stream",
     "text": [
      "enter a number 0\n"
     ]
    }
   ],
   "source": [
    "num = input(\"enter a number\")"
   ]
  },
  {
   "cell_type": "code",
   "execution_count": 14,
   "id": "9df074a4-a4f8-4715-9c92-21feb7a531ad",
   "metadata": {},
   "outputs": [
    {
     "name": "stdout",
     "output_type": "stream",
     "text": [
      "The number 0 is a even number.\n"
     ]
    }
   ],
   "source": [
    "evenodd(num)"
   ]
  },
  {
   "cell_type": "code",
   "execution_count": null,
   "id": "491a6c13-d22a-48fe-a2a0-f04a5ccb35fd",
   "metadata": {},
   "outputs": [],
   "source": []
  }
 ],
 "metadata": {
  "kernelspec": {
   "display_name": "Python 3 (ipykernel)",
   "language": "python",
   "name": "python3"
  },
  "language_info": {
   "codemirror_mode": {
    "name": "ipython",
    "version": 3
   },
   "file_extension": ".py",
   "mimetype": "text/x-python",
   "name": "python",
   "nbconvert_exporter": "python",
   "pygments_lexer": "ipython3",
   "version": "3.11.9"
  }
 },
 "nbformat": 4,
 "nbformat_minor": 5
}
