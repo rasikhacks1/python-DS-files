{
 "cells": [
  {
   "cell_type": "code",
   "execution_count": 4,
   "id": "4973194d-0dfb-4228-be0c-09691ee321b5",
   "metadata": {},
   "outputs": [],
   "source": [
    "course = {1: \"python\",2:\"ROS\",3:\"Machine learning\",4:\"embedded system\"}"
   ]
  },
  {
   "cell_type": "code",
   "execution_count": 5,
   "id": "c15fcc36-733d-4fba-b005-a618d63f8b15",
   "metadata": {},
   "outputs": [],
   "source": [
    "dets ={\"Name\":\"Rasik\",\"Age\":30,\"company\":\"list\"}"
   ]
  },
  {
   "cell_type": "code",
   "execution_count": 6,
   "id": "6e96d038-0dbd-4fb3-8d27-a279194fddfe",
   "metadata": {},
   "outputs": [
    {
     "data": {
      "text/plain": [
       "dict"
      ]
     },
     "execution_count": 6,
     "metadata": {},
     "output_type": "execute_result"
    }
   ],
   "source": [
    "type(course)\n"
   ]
  },
  {
   "cell_type": "code",
   "execution_count": 7,
   "id": "90b3fbc2-970d-4881-9648-3bbf821f3a2d",
   "metadata": {},
   "outputs": [
    {
     "data": {
      "text/plain": [
       "4"
      ]
     },
     "execution_count": 7,
     "metadata": {},
     "output_type": "execute_result"
    }
   ],
   "source": [
    "len(course)"
   ]
  },
  {
   "cell_type": "code",
   "execution_count": 8,
   "id": "1810fe8e-7889-4985-9210-879452d45eff",
   "metadata": {},
   "outputs": [
    {
     "data": {
      "text/plain": [
       "3"
      ]
     },
     "execution_count": 8,
     "metadata": {},
     "output_type": "execute_result"
    }
   ],
   "source": [
    "len(dets)"
   ]
  },
  {
   "cell_type": "code",
   "execution_count": 9,
   "id": "a8cfd983-f9b5-40e8-a67a-a35f1b22d300",
   "metadata": {},
   "outputs": [],
   "source": [
    "course[1]=\"R Language\""
   ]
  },
  {
   "cell_type": "code",
   "execution_count": 10,
   "id": "788c1ffd-2acc-42cf-911c-31e176c44935",
   "metadata": {},
   "outputs": [
    {
     "data": {
      "text/plain": [
       "{1: 'R Language', 2: 'ROS', 3: 'Machine learning', 4: 'embedded system'}"
      ]
     },
     "execution_count": 10,
     "metadata": {},
     "output_type": "execute_result"
    }
   ],
   "source": [
    "course"
   ]
  },
  {
   "cell_type": "code",
   "execution_count": 11,
   "id": "5833ff07-78a6-4d20-926e-bd2c9fed3de2",
   "metadata": {},
   "outputs": [
    {
     "data": {
      "text/plain": [
       "'R Language'"
      ]
     },
     "execution_count": 11,
     "metadata": {},
     "output_type": "execute_result"
    }
   ],
   "source": [
    "course[1]"
   ]
  },
  {
   "cell_type": "code",
   "execution_count": 16,
   "id": "75b1c18f-0b17-4914-a8da-8ffe4116f965",
   "metadata": {},
   "outputs": [],
   "source": [
    "dets[\"Name\"]=\"list\""
   ]
  },
  {
   "cell_type": "code",
   "execution_count": 17,
   "id": "c4be3af9-66ef-4914-8f5e-8c897e1cc2d9",
   "metadata": {},
   "outputs": [
    {
     "data": {
      "text/plain": [
       "{'Name': 'list', 'Age': 30, 'company': 'list', 'name': 'list'}"
      ]
     },
     "execution_count": 17,
     "metadata": {},
     "output_type": "execute_result"
    }
   ],
   "source": [
    "dets"
   ]
  },
  {
   "cell_type": "code",
   "execution_count": 18,
   "id": "cdc2b931-1f83-4cf5-9a07-3a90e5787d40",
   "metadata": {},
   "outputs": [
    {
     "ename": "AttributeError",
     "evalue": "'dict' object has no attribute 'key'",
     "output_type": "error",
     "traceback": [
      "\u001b[1;31m---------------------------------------------------------------------------\u001b[0m",
      "\u001b[1;31mAttributeError\u001b[0m                            Traceback (most recent call last)",
      "Cell \u001b[1;32mIn[18], line 1\u001b[0m\n\u001b[1;32m----> 1\u001b[0m dets\u001b[38;5;241m.\u001b[39mkey()\n",
      "\u001b[1;31mAttributeError\u001b[0m: 'dict' object has no attribute 'key'"
     ]
    }
   ],
   "source": [
    "dets.key()"
   ]
  },
  {
   "cell_type": "code",
   "execution_count": 19,
   "id": "9259408b-95e4-4b92-bb0f-b7308fa9776d",
   "metadata": {},
   "outputs": [
    {
     "data": {
      "text/plain": [
       "dict_keys(['Name', 'Age', 'company', 'name'])"
      ]
     },
     "execution_count": 19,
     "metadata": {},
     "output_type": "execute_result"
    }
   ],
   "source": [
    "dets.keys()"
   ]
  },
  {
   "cell_type": "code",
   "execution_count": 20,
   "id": "54d6c5d3-8590-4903-abc8-a63245b1b6ef",
   "metadata": {},
   "outputs": [
    {
     "data": {
      "text/plain": [
       "dict_values(['list', 30, 'list', 'list'])"
      ]
     },
     "execution_count": 20,
     "metadata": {},
     "output_type": "execute_result"
    }
   ],
   "source": [
    "dets.values()"
   ]
  },
  {
   "cell_type": "code",
   "execution_count": 21,
   "id": "babf4eac-9438-4ee8-82ac-0e41790cbc9a",
   "metadata": {},
   "outputs": [
    {
     "data": {
      "text/plain": [
       "dict_keys([1, 2, 3, 4])"
      ]
     },
     "execution_count": 21,
     "metadata": {},
     "output_type": "execute_result"
    }
   ],
   "source": [
    "course.keys()"
   ]
  },
  {
   "cell_type": "code",
   "execution_count": 22,
   "id": "069b4329-2f3b-4ff9-971f-4823ac5db2c6",
   "metadata": {},
   "outputs": [
    {
     "data": {
      "text/plain": [
       "dict_values(['R Language', 'ROS', 'Machine learning', 'embedded system'])"
      ]
     },
     "execution_count": 22,
     "metadata": {},
     "output_type": "execute_result"
    }
   ],
   "source": [
    "course.values()"
   ]
  },
  {
   "cell_type": "code",
   "execution_count": 23,
   "id": "51a32355-9ec4-464c-ae6b-a03d0a1a11dd",
   "metadata": {},
   "outputs": [
    {
     "data": {
      "text/plain": [
       "dict_items([(1, 'R Language'), (2, 'ROS'), (3, 'Machine learning'), (4, 'embedded system')])"
      ]
     },
     "execution_count": 23,
     "metadata": {},
     "output_type": "execute_result"
    }
   ],
   "source": [
    "course.items()"
   ]
  },
  {
   "cell_type": "code",
   "execution_count": 24,
   "id": "18032c67-3be7-4a87-a697-8950e6486460",
   "metadata": {},
   "outputs": [
    {
     "data": {
      "text/plain": [
       "dict_items([('Name', 'list'), ('Age', 30), ('company', 'list'), ('name', 'list')])"
      ]
     },
     "execution_count": 24,
     "metadata": {},
     "output_type": "execute_result"
    }
   ],
   "source": [
    "dets.items()"
   ]
  },
  {
   "cell_type": "code",
   "execution_count": 25,
   "id": "1a4fafd7-a5e0-4a28-8c45-543071017063",
   "metadata": {},
   "outputs": [
    {
     "data": {
      "text/plain": [
       "'list'"
      ]
     },
     "execution_count": 25,
     "metadata": {},
     "output_type": "execute_result"
    }
   ],
   "source": [
    "dets['name']"
   ]
  },
  {
   "cell_type": "code",
   "execution_count": 27,
   "id": "f7617185-78ed-4bc2-a4c0-51c7449e468e",
   "metadata": {},
   "outputs": [
    {
     "data": {
      "text/plain": [
       "'R Language'"
      ]
     },
     "execution_count": 27,
     "metadata": {},
     "output_type": "execute_result"
    }
   ],
   "source": [
    "course.get(1)"
   ]
  },
  {
   "cell_type": "code",
   "execution_count": 29,
   "id": "664a13c8-0ece-4760-8246-2e9cd99cff1c",
   "metadata": {},
   "outputs": [],
   "source": [
    "course[5]=\"ai and ml\""
   ]
  },
  {
   "cell_type": "code",
   "execution_count": 30,
   "id": "9582aebc-f72e-45c5-8b01-17c732f862ad",
   "metadata": {},
   "outputs": [
    {
     "data": {
      "text/plain": [
       "{1: 'R Language',\n",
       " 2: 'ROS',\n",
       " 3: 'Machine learning',\n",
       " 4: 'embedded system',\n",
       " 5: 'ai and ml'}"
      ]
     },
     "execution_count": 30,
     "metadata": {},
     "output_type": "execute_result"
    }
   ],
   "source": [
    "course"
   ]
  },
  {
   "cell_type": "code",
   "execution_count": 31,
   "id": "ba78158c-e608-4cc7-8fcb-894b1165c657",
   "metadata": {},
   "outputs": [],
   "source": [
    "dets[\"clg\"]=\"pmist\""
   ]
  },
  {
   "cell_type": "code",
   "execution_count": 32,
   "id": "f5256baf-9d11-4359-8c3c-cad674a4d397",
   "metadata": {},
   "outputs": [
    {
     "data": {
      "text/plain": [
       "{'Name': 'list', 'Age': 30, 'company': 'list', 'name': 'list', 'clg': 'pmist'}"
      ]
     },
     "execution_count": 32,
     "metadata": {},
     "output_type": "execute_result"
    }
   ],
   "source": [
    "dets"
   ]
  },
  {
   "cell_type": "code",
   "execution_count": 33,
   "id": "b151aab1-4892-496c-8e7d-df5da82bac21",
   "metadata": {},
   "outputs": [
    {
     "data": {
      "text/plain": [
       "'pmist'"
      ]
     },
     "execution_count": 33,
     "metadata": {},
     "output_type": "execute_result"
    }
   ],
   "source": [
    "dets.pop(\"clg\")"
   ]
  },
  {
   "cell_type": "code",
   "execution_count": 34,
   "id": "d2cd5e51-db7e-49c7-b463-23fec9a3d8b4",
   "metadata": {},
   "outputs": [
    {
     "data": {
      "text/plain": [
       "{'Name': 'list', 'Age': 30, 'company': 'list', 'name': 'list'}"
      ]
     },
     "execution_count": 34,
     "metadata": {},
     "output_type": "execute_result"
    }
   ],
   "source": [
    "dets"
   ]
  },
  {
   "cell_type": "code",
   "execution_count": 35,
   "id": "0f88dbcc-2bf1-47e0-a0af-940eb51ca5d0",
   "metadata": {},
   "outputs": [
    {
     "data": {
      "text/plain": [
       "'list'"
      ]
     },
     "execution_count": 35,
     "metadata": {},
     "output_type": "execute_result"
    }
   ],
   "source": [
    "dets.pop(\"Name\")"
   ]
  },
  {
   "cell_type": "code",
   "execution_count": 36,
   "id": "0047ea5c-9380-4868-bfd8-5eff6b61c09c",
   "metadata": {},
   "outputs": [
    {
     "data": {
      "text/plain": [
       "{'Age': 30, 'company': 'list', 'name': 'list'}"
      ]
     },
     "execution_count": 36,
     "metadata": {},
     "output_type": "execute_result"
    }
   ],
   "source": [
    "dets"
   ]
  },
  {
   "cell_type": "code",
   "execution_count": 37,
   "id": "7e11be4c-d507-47c5-8fd4-d9c85c8c35e8",
   "metadata": {},
   "outputs": [],
   "source": [
    "Ring = course.copy()\n"
   ]
  },
  {
   "cell_type": "code",
   "execution_count": 38,
   "id": "5f3e3595-731d-420b-9017-d2d1b720c100",
   "metadata": {},
   "outputs": [
    {
     "data": {
      "text/plain": [
       "{1: 'R Language',\n",
       " 2: 'ROS',\n",
       " 3: 'Machine learning',\n",
       " 4: 'embedded system',\n",
       " 5: 'ai and ml'}"
      ]
     },
     "execution_count": 38,
     "metadata": {},
     "output_type": "execute_result"
    }
   ],
   "source": [
    "Ring"
   ]
  },
  {
   "cell_type": "code",
   "execution_count": 39,
   "id": "abeb87fe-44e6-44ca-a84c-a9477f60475e",
   "metadata": {},
   "outputs": [],
   "source": [
    "name = frozenset({1,2,3,\"prady\",\"hi\"})"
   ]
  },
  {
   "cell_type": "code",
   "execution_count": 40,
   "id": "3f322475-3f7a-4e27-b4e9-50a22fa0bd03",
   "metadata": {},
   "outputs": [
    {
     "ename": "AttributeError",
     "evalue": "'frozenset' object has no attribute 'add'",
     "output_type": "error",
     "traceback": [
      "\u001b[1;31m---------------------------------------------------------------------------\u001b[0m",
      "\u001b[1;31mAttributeError\u001b[0m                            Traceback (most recent call last)",
      "Cell \u001b[1;32mIn[40], line 1\u001b[0m\n\u001b[1;32m----> 1\u001b[0m name\u001b[38;5;241m.\u001b[39madd(\u001b[38;5;241m4\u001b[39m)\n",
      "\u001b[1;31mAttributeError\u001b[0m: 'frozenset' object has no attribute 'add'"
     ]
    }
   ],
   "source": [
    "name.add(4)"
   ]
  },
  {
   "cell_type": "code",
   "execution_count": 42,
   "id": "e6d2e555-de7f-436a-a505-d74c77848a0f",
   "metadata": {},
   "outputs": [],
   "source": [
    "a = frozenset({5,8,\"prag\",\"Robotics\"})"
   ]
  },
  {
   "cell_type": "code",
   "execution_count": 43,
   "id": "7eef6047-a248-41e0-897d-c73021c49b98",
   "metadata": {},
   "outputs": [
    {
     "data": {
      "text/plain": [
       "frozenset({1, 2, 3, 5, 8, 'Robotics', 'hi', 'prady', 'prag'})"
      ]
     },
     "execution_count": 43,
     "metadata": {},
     "output_type": "execute_result"
    }
   ],
   "source": [
    "name | a"
   ]
  },
  {
   "cell_type": "code",
   "execution_count": 49,
   "id": "5654ac8e-87c0-448f-a8e8-558cf6cb0356",
   "metadata": {},
   "outputs": [
    {
     "name": "stdin",
     "output_type": "stream",
     "text": [
      "Enter a Name:  Rasik\n",
      "Enter a Number:  874\n"
     ]
    }
   ],
   "source": [
    "num1 = input(\"Enter a Name: \")\n",
    "num2 = int(input(\"Enter a Number: \"))\n"
   ]
  },
  {
   "cell_type": "code",
   "execution_count": 47,
   "id": "cdcf33d9-8b1e-4028-ac39-bd792fbbeb09",
   "metadata": {},
   "outputs": [
    {
     "data": {
      "text/plain": [
       "str"
      ]
     },
     "execution_count": 47,
     "metadata": {},
     "output_type": "execute_result"
    }
   ],
   "source": [
    "type(num1)"
   ]
  },
  {
   "cell_type": "code",
   "execution_count": 50,
   "id": "710fe183-ac23-4941-8a9c-d52fd6998e5b",
   "metadata": {},
   "outputs": [
    {
     "data": {
      "text/plain": [
       "'Rasik'"
      ]
     },
     "execution_count": 50,
     "metadata": {},
     "output_type": "execute_result"
    }
   ],
   "source": [
    "num1"
   ]
  },
  {
   "cell_type": "code",
   "execution_count": 51,
   "id": "1d4c2e30-e1d2-4547-91dd-745c712557c8",
   "metadata": {},
   "outputs": [
    {
     "data": {
      "text/plain": [
       "874"
      ]
     },
     "execution_count": 51,
     "metadata": {},
     "output_type": "execute_result"
    }
   ],
   "source": [
    "num2"
   ]
  },
  {
   "cell_type": "code",
   "execution_count": 52,
   "id": "6a89b6a8-aaf5-491c-acc3-9ab78286427e",
   "metadata": {},
   "outputs": [
    {
     "data": {
      "text/plain": [
       "str"
      ]
     },
     "execution_count": 52,
     "metadata": {},
     "output_type": "execute_result"
    }
   ],
   "source": [
    "type(num1)"
   ]
  },
  {
   "cell_type": "code",
   "execution_count": 53,
   "id": "2f86ad86-1464-41f2-b2ab-9dc0bad9229f",
   "metadata": {},
   "outputs": [
    {
     "data": {
      "text/plain": [
       "int"
      ]
     },
     "execution_count": 53,
     "metadata": {},
     "output_type": "execute_result"
    }
   ],
   "source": [
    "type(num2)"
   ]
  },
  {
   "cell_type": "code",
   "execution_count": null,
   "id": "699449d6-233e-4528-9d6a-4f4e5d9c0c95",
   "metadata": {},
   "outputs": [],
   "source": []
  }
 ],
 "metadata": {
  "kernelspec": {
   "display_name": "Python 3 (ipykernel)",
   "language": "python",
   "name": "python3"
  },
  "language_info": {
   "codemirror_mode": {
    "name": "ipython",
    "version": 3
   },
   "file_extension": ".py",
   "mimetype": "text/x-python",
   "name": "python",
   "nbconvert_exporter": "python",
   "pygments_lexer": "ipython3",
   "version": "3.11.9"
  }
 },
 "nbformat": 4,
 "nbformat_minor": 5
}
