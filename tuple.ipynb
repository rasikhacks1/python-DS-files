{
 "cells": [
  {
   "cell_type": "code",
   "execution_count": 1,
   "id": "aeacc9e9-9563-4297-8447-8ee19360a206",
   "metadata": {},
   "outputs": [],
   "source": [
    "name = (\"rasik\",1,2,3,4,\"amee\",2.5,5j,1)"
   ]
  },
  {
   "cell_type": "code",
   "execution_count": 2,
   "id": "70e40780-10f2-4d30-a58f-3f64d47f115e",
   "metadata": {},
   "outputs": [],
   "source": [
    "a=(1,2,3)"
   ]
  },
  {
   "cell_type": "code",
   "execution_count": 3,
   "id": "d4119720-c4eb-4f9c-9b3f-704fcb3b7d55",
   "metadata": {},
   "outputs": [
    {
     "data": {
      "text/plain": [
       "('rasik', 1, 2, 3, 4, 'amee', 2.5, 5j, 1)"
      ]
     },
     "execution_count": 3,
     "metadata": {},
     "output_type": "execute_result"
    }
   ],
   "source": [
    "name"
   ]
  },
  {
   "cell_type": "code",
   "execution_count": 4,
   "id": "f87efa7b-4b32-4f0c-a8da-4c99a216b2d3",
   "metadata": {},
   "outputs": [
    {
     "data": {
      "text/plain": [
       "tuple"
      ]
     },
     "execution_count": 4,
     "metadata": {},
     "output_type": "execute_result"
    }
   ],
   "source": [
    "type(name)"
   ]
  },
  {
   "cell_type": "code",
   "execution_count": 5,
   "id": "e1aa60c8-8938-4403-b719-467d4b8e0866",
   "metadata": {},
   "outputs": [
    {
     "data": {
      "text/plain": [
       "9"
      ]
     },
     "execution_count": 5,
     "metadata": {},
     "output_type": "execute_result"
    }
   ],
   "source": [
    "len(name)"
   ]
  },
  {
   "cell_type": "code",
   "execution_count": 6,
   "id": "d8692e38-3a7b-419b-9122-b03bbd2a9b41",
   "metadata": {},
   "outputs": [
    {
     "data": {
      "text/plain": [
       "'amee'"
      ]
     },
     "execution_count": 6,
     "metadata": {},
     "output_type": "execute_result"
    }
   ],
   "source": [
    "name[5]"
   ]
  },
  {
   "cell_type": "code",
   "execution_count": null,
   "id": "e27f4b31-b960-4bdb-b4b4-1bba082dec05",
   "metadata": {},
   "outputs": [],
   "source": []
  }
 ],
 "metadata": {
  "kernelspec": {
   "display_name": "Python 3 (ipykernel)",
   "language": "python",
   "name": "python3"
  },
  "language_info": {
   "codemirror_mode": {
    "name": "ipython",
    "version": 3
   },
   "file_extension": ".py",
   "mimetype": "text/x-python",
   "name": "python",
   "nbconvert_exporter": "python",
   "pygments_lexer": "ipython3",
   "version": "3.11.9"
  }
 },
 "nbformat": 4,
 "nbformat_minor": 5
}
