{
 "cells": [
  {
   "cell_type": "markdown",
   "id": "187aa8e1-87d2-48fe-a5e2-4f79b598b931",
   "metadata": {},
   "source": [
    "# Variable Assingment"
   ]
  },
  {
   "cell_type": "code",
   "execution_count": 1,
   "id": "eac99af1-fa86-4194-a62f-b590f90c3a37",
   "metadata": {},
   "outputs": [
    {
     "name": "stdout",
     "output_type": "stream",
     "text": [
      "C:\\Users\\aedpu\n"
     ]
    },
    {
     "name": "stderr",
     "output_type": "stream",
     "text": [
      "C:\\Users\\aedpu\\anaconda3\\envs\\RasikCSE\\Lib\\site-packages\\IPython\\core\\magics\\osm.py:393: UserWarning: This is now an optional IPython functionality, using bookmarks requires you to install the `pickleshare` library.\n",
      "  bkms = self.shell.db.get('bookmarks', {})\n",
      "C:\\Users\\aedpu\\anaconda3\\envs\\RasikCSE\\Lib\\site-packages\\IPython\\core\\magics\\osm.py:428: UserWarning: This is now an optional IPython functionality, setting dhist requires you to install the `pickleshare` library.\n",
      "  self.shell.db['dhist'] = compress_dhist(dhist)[-100:]\n"
     ]
    }
   ],
   "source": [
    "%cd"
   ]
  },
  {
   "cell_type": "code",
   "execution_count": 2,
   "id": "714c70d7-ae86-4727-99e5-4d44669d376f",
   "metadata": {},
   "outputs": [],
   "source": [
    "A=20"
   ]
  },
  {
   "cell_type": "code",
   "execution_count": 3,
   "id": "b2a5253a-7a00-4f1b-97ef-84536e0bfce7",
   "metadata": {},
   "outputs": [
    {
     "data": {
      "text/plain": [
       "20"
      ]
     },
     "execution_count": 3,
     "metadata": {},
     "output_type": "execute_result"
    }
   ],
   "source": [
    "A"
   ]
  },
  {
   "cell_type": "code",
   "execution_count": 4,
   "id": "6c0b18ef-0d1d-44bd-802c-642e44f90265",
   "metadata": {},
   "outputs": [],
   "source": [
    "a=b=c=100"
   ]
  },
  {
   "cell_type": "code",
   "execution_count": 5,
   "id": "aa99ebd0-7081-4faf-a99d-2261e5fbb22c",
   "metadata": {},
   "outputs": [
    {
     "data": {
      "text/plain": [
       "100"
      ]
     },
     "execution_count": 5,
     "metadata": {},
     "output_type": "execute_result"
    }
   ],
   "source": [
    "a"
   ]
  },
  {
   "cell_type": "code",
   "execution_count": 6,
   "id": "11a3a60e-cbac-4eaa-879d-aa276cc828ee",
   "metadata": {},
   "outputs": [
    {
     "data": {
      "text/plain": [
       "100"
      ]
     },
     "execution_count": 6,
     "metadata": {},
     "output_type": "execute_result"
    }
   ],
   "source": [
    "b"
   ]
  },
  {
   "cell_type": "code",
   "execution_count": 7,
   "id": "6683a6c2-accd-45d4-ad2b-6cc79d4849d7",
   "metadata": {},
   "outputs": [
    {
     "data": {
      "text/plain": [
       "100"
      ]
     },
     "execution_count": 7,
     "metadata": {},
     "output_type": "execute_result"
    }
   ],
   "source": [
    "c"
   ]
  },
  {
   "cell_type": "code",
   "execution_count": 8,
   "id": "5e50a260-f874-40d1-905d-fae9c16f877b",
   "metadata": {},
   "outputs": [
    {
     "ename": "SyntaxError",
     "evalue": "invalid syntax. Maybe you meant '==' or ':=' instead of '='? (1741726727.py, line 1)",
     "output_type": "error",
     "traceback": [
      "\u001b[1;36m  Cell \u001b[1;32mIn[8], line 1\u001b[1;36m\u001b[0m\n\u001b[1;33m    a=12,b=4,c=34\u001b[0m\n\u001b[1;37m    ^\u001b[0m\n\u001b[1;31mSyntaxError\u001b[0m\u001b[1;31m:\u001b[0m invalid syntax. Maybe you meant '==' or ':=' instead of '='?\n"
     ]
    }
   ],
   "source": [
    "a=12,b=4,c=34"
   ]
  },
  {
   "cell_type": "code",
   "execution_count": 9,
   "id": "5e836b1a-1c1b-43ea-accd-7e63ce9c0e45",
   "metadata": {},
   "outputs": [],
   "source": [
    "a,b=2,3"
   ]
  },
  {
   "cell_type": "code",
   "execution_count": 10,
   "id": "88f3a425-0d3b-4b4b-a6ce-99736e8fc620",
   "metadata": {},
   "outputs": [
    {
     "data": {
      "text/plain": [
       "2"
      ]
     },
     "execution_count": 10,
     "metadata": {},
     "output_type": "execute_result"
    }
   ],
   "source": [
    "a"
   ]
  },
  {
   "cell_type": "code",
   "execution_count": 11,
   "id": "f9211d7c-730d-410d-999c-4f9a077354b1",
   "metadata": {},
   "outputs": [
    {
     "data": {
      "text/plain": [
       "3"
      ]
     },
     "execution_count": 11,
     "metadata": {},
     "output_type": "execute_result"
    }
   ],
   "source": [
    "b"
   ]
  },
  {
   "cell_type": "code",
   "execution_count": 12,
   "id": "06d210e5-fa10-4599-9fd5-4b2ee4900f30",
   "metadata": {},
   "outputs": [
    {
     "ename": "TypeError",
     "evalue": "unsupported operand type(s) for @: 'int' and 'int'",
     "output_type": "error",
     "traceback": [
      "\u001b[1;31m---------------------------------------------------------------------------\u001b[0m",
      "\u001b[1;31mTypeError\u001b[0m                                 Traceback (most recent call last)",
      "Cell \u001b[1;32mIn[12], line 1\u001b[0m\n\u001b[1;32m----> 1\u001b[0m a\u001b[38;5;241m@\u001b[39m\u001b[38;5;241m10\u001b[39m\n",
      "\u001b[1;31mTypeError\u001b[0m: unsupported operand type(s) for @: 'int' and 'int'"
     ]
    }
   ],
   "source": [
    "a@10"
   ]
  },
  {
   "cell_type": "code",
   "execution_count": 13,
   "id": "62bdd9bb-ec6f-44ab-b18e-04de8e66c2cc",
   "metadata": {},
   "outputs": [
    {
     "ename": "SyntaxError",
     "evalue": "invalid syntax (1364334531.py, line 1)",
     "output_type": "error",
     "traceback": [
      "\u001b[1;36m  Cell \u001b[1;32mIn[13], line 1\u001b[1;36m\u001b[0m\n\u001b[1;33m    a!23\u001b[0m\n\u001b[1;37m     ^\u001b[0m\n\u001b[1;31mSyntaxError\u001b[0m\u001b[1;31m:\u001b[0m invalid syntax\n"
     ]
    }
   ],
   "source": [
    "a!23"
   ]
  },
  {
   "cell_type": "code",
   "execution_count": 14,
   "id": "8c0a6621-ea02-4753-baef-5fb5192010b3",
   "metadata": {},
   "outputs": [
    {
     "data": {
      "text/plain": [
       "2"
      ]
     },
     "execution_count": 14,
     "metadata": {},
     "output_type": "execute_result"
    }
   ],
   "source": [
    "a#3"
   ]
  },
  {
   "cell_type": "code",
   "execution_count": 15,
   "id": "63e1d657-e2a5-467c-9ffd-f363cb69bd05",
   "metadata": {},
   "outputs": [
    {
     "ename": "SyntaxError",
     "evalue": "invalid syntax (1883102629.py, line 1)",
     "output_type": "error",
     "traceback": [
      "\u001b[1;36m  Cell \u001b[1;32mIn[15], line 1\u001b[1;36m\u001b[0m\n\u001b[1;33m    a$34\u001b[0m\n\u001b[1;37m     ^\u001b[0m\n\u001b[1;31mSyntaxError\u001b[0m\u001b[1;31m:\u001b[0m invalid syntax\n"
     ]
    }
   ],
   "source": [
    "a$34"
   ]
  },
  {
   "cell_type": "code",
   "execution_count": 16,
   "id": "fdddb9dd-35a8-482c-96ea-6b614197106f",
   "metadata": {},
   "outputs": [
    {
     "data": {
      "text/plain": [
       "2"
      ]
     },
     "execution_count": 16,
     "metadata": {},
     "output_type": "execute_result"
    }
   ],
   "source": [
    "a%45"
   ]
  },
  {
   "cell_type": "code",
   "execution_count": 17,
   "id": "f460a58b-f64c-43f4-86bc-e0d70b4d654f",
   "metadata": {},
   "outputs": [
    {
     "data": {
      "text/plain": [
       "65"
      ]
     },
     "execution_count": 17,
     "metadata": {},
     "output_type": "execute_result"
    }
   ],
   "source": [
    "a^67"
   ]
  },
  {
   "cell_type": "code",
   "execution_count": 18,
   "id": "eb6af708-a031-48f3-b11f-8d61eaf42885",
   "metadata": {},
   "outputs": [
    {
     "data": {
      "text/plain": [
       "0"
      ]
     },
     "execution_count": 18,
     "metadata": {},
     "output_type": "execute_result"
    }
   ],
   "source": [
    "a&45"
   ]
  },
  {
   "cell_type": "code",
   "execution_count": 19,
   "id": "26cd31c6-6b9b-452f-9801-2b6ae99ffbff",
   "metadata": {},
   "outputs": [
    {
     "data": {
      "text/plain": [
       "68"
      ]
     },
     "execution_count": 19,
     "metadata": {},
     "output_type": "execute_result"
    }
   ],
   "source": [
    "a*34"
   ]
  },
  {
   "cell_type": "code",
   "execution_count": 20,
   "id": "8fbe09be-5d67-4dc5-8787-23c035575c46",
   "metadata": {},
   "outputs": [
    {
     "ename": "SyntaxError",
     "evalue": "incomplete input (943137220.py, line 1)",
     "output_type": "error",
     "traceback": [
      "\u001b[1;36m  Cell \u001b[1;32mIn[20], line 1\u001b[1;36m\u001b[0m\n\u001b[1;33m    a(23\u001b[0m\n\u001b[1;37m        ^\u001b[0m\n\u001b[1;31mSyntaxError\u001b[0m\u001b[1;31m:\u001b[0m incomplete input\n"
     ]
    }
   ],
   "source": [
    "a(23"
   ]
  },
  {
   "cell_type": "code",
   "execution_count": 21,
   "id": "71bf341c-2b45-44c9-a59a-85788d12be9a",
   "metadata": {},
   "outputs": [
    {
     "ename": "SyntaxError",
     "evalue": "unmatched ')' (344391335.py, line 1)",
     "output_type": "error",
     "traceback": [
      "\u001b[1;36m  Cell \u001b[1;32mIn[21], line 1\u001b[1;36m\u001b[0m\n\u001b[1;33m    a)45\u001b[0m\n\u001b[1;37m     ^\u001b[0m\n\u001b[1;31mSyntaxError\u001b[0m\u001b[1;31m:\u001b[0m unmatched ')'\n"
     ]
    }
   ],
   "source": [
    "a)45"
   ]
  },
  {
   "cell_type": "code",
   "execution_count": 22,
   "id": "29e321f7-9300-41bb-a56f-a733f7ab6867",
   "metadata": {},
   "outputs": [
    {
     "data": {
      "text/plain": [
       "-65"
      ]
     },
     "execution_count": 22,
     "metadata": {},
     "output_type": "execute_result"
    }
   ],
   "source": [
    "a-67"
   ]
  },
  {
   "cell_type": "code",
   "execution_count": 23,
   "id": "adb3a634-2849-4a5f-be2c-f3fb7fef223e",
   "metadata": {},
   "outputs": [
    {
     "data": {
      "text/plain": [
       "25"
      ]
     },
     "execution_count": 23,
     "metadata": {},
     "output_type": "execute_result"
    }
   ],
   "source": [
    "a+23"
   ]
  },
  {
   "cell_type": "code",
   "execution_count": 24,
   "id": "9ccaa8cd-cbe6-4b95-ba2b-d16cd1c46dfe",
   "metadata": {},
   "outputs": [
    {
     "data": {
      "text/plain": [
       "-21"
      ]
     },
     "execution_count": 24,
     "metadata": {},
     "output_type": "execute_result"
    }
   ],
   "source": [
    "a-23"
   ]
  },
  {
   "cell_type": "code",
   "execution_count": 25,
   "id": "84fe222b-0f59-449a-9997-0f5ce7c832bb",
   "metadata": {},
   "outputs": [
    {
     "ename": "NameError",
     "evalue": "name 'a_6' is not defined",
     "output_type": "error",
     "traceback": [
      "\u001b[1;31m---------------------------------------------------------------------------\u001b[0m",
      "\u001b[1;31mNameError\u001b[0m                                 Traceback (most recent call last)",
      "Cell \u001b[1;32mIn[25], line 1\u001b[0m\n\u001b[1;32m----> 1\u001b[0m a_6\n",
      "\u001b[1;31mNameError\u001b[0m: name 'a_6' is not defined"
     ]
    }
   ],
   "source": [
    "a_6"
   ]
  },
  {
   "cell_type": "code",
   "execution_count": 26,
   "id": "6bb59122-397e-41e9-8686-8e72af1d7536",
   "metadata": {},
   "outputs": [
    {
     "data": {
      "text/plain": [
       "True"
      ]
     },
     "execution_count": 26,
     "metadata": {},
     "output_type": "execute_result"
    }
   ],
   "source": [
    "a<23"
   ]
  },
  {
   "cell_type": "code",
   "execution_count": 27,
   "id": "c8cc874c-cdeb-4b65-8726-d732d5ecc270",
   "metadata": {},
   "outputs": [
    {
     "data": {
      "text/plain": [
       "False"
      ]
     },
     "execution_count": 27,
     "metadata": {},
     "output_type": "execute_result"
    }
   ],
   "source": [
    "a>34"
   ]
  },
  {
   "cell_type": "code",
   "execution_count": 28,
   "id": "307076ef-f1f3-4026-819b-4c7cdeea0128",
   "metadata": {},
   "outputs": [
    {
     "data": {
      "text/plain": [
       "(2, 56)"
      ]
     },
     "execution_count": 28,
     "metadata": {},
     "output_type": "execute_result"
    }
   ],
   "source": [
    "a,56"
   ]
  },
  {
   "cell_type": "code",
   "execution_count": 29,
   "id": "3dcd7b45-24b4-4614-8ca0-0447ad15bc07",
   "metadata": {},
   "outputs": [
    {
     "ename": "SyntaxError",
     "evalue": "invalid syntax (1575368166.py, line 1)",
     "output_type": "error",
     "traceback": [
      "\u001b[1;36m  Cell \u001b[1;32mIn[29], line 1\u001b[1;36m\u001b[0m\n\u001b[1;33m    a.23\u001b[0m\n\u001b[1;37m     ^\u001b[0m\n\u001b[1;31mSyntaxError\u001b[0m\u001b[1;31m:\u001b[0m invalid syntax\n"
     ]
    }
   ],
   "source": [
    "a.23"
   ]
  },
  {
   "cell_type": "code",
   "execution_count": 30,
   "id": "a95ebb9d-56bd-403f-b1cd-674f6815947e",
   "metadata": {},
   "outputs": [
    {
     "ename": "SyntaxError",
     "evalue": "invalid syntax (2440638074.py, line 1)",
     "output_type": "error",
     "traceback": [
      "\u001b[1;36m  Cell \u001b[1;32mIn[30], line 1\u001b[1;36m\u001b[0m\n\u001b[1;33m    a?34\u001b[0m\n\u001b[1;37m     ^\u001b[0m\n\u001b[1;31mSyntaxError\u001b[0m\u001b[1;31m:\u001b[0m invalid syntax\n"
     ]
    }
   ],
   "source": [
    "a?34"
   ]
  },
  {
   "cell_type": "code",
   "execution_count": 31,
   "id": "001ee320-c370-4045-967c-f258e3172047",
   "metadata": {},
   "outputs": [
    {
     "data": {
      "text/plain": [
       "0.058823529411764705"
      ]
     },
     "execution_count": 31,
     "metadata": {},
     "output_type": "execute_result"
    }
   ],
   "source": [
    "a/34"
   ]
  },
  {
   "cell_type": "code",
   "execution_count": 32,
   "id": "0e4c9a73-8491-48f5-bf38-4245b7ff9146",
   "metadata": {},
   "outputs": [
    {
     "data": {
      "text/plain": [
       "56"
      ]
     },
     "execution_count": 32,
     "metadata": {},
     "output_type": "execute_result"
    }
   ],
   "source": [
    "a;56"
   ]
  },
  {
   "cell_type": "code",
   "execution_count": 33,
   "id": "59af1f6f-76d2-4bc3-aca3-5c73e458601a",
   "metadata": {},
   "outputs": [],
   "source": [
    "a:45"
   ]
  },
  {
   "cell_type": "code",
   "execution_count": 34,
   "id": "bae7ccad-b272-40c0-8a69-2e8526b75fce",
   "metadata": {},
   "outputs": [
    {
     "ename": "SyntaxError",
     "evalue": "unterminated string literal (detected at line 1) (2139415412.py, line 1)",
     "output_type": "error",
     "traceback": [
      "\u001b[1;36m  Cell \u001b[1;32mIn[34], line 1\u001b[1;36m\u001b[0m\n\u001b[1;33m    a'56\u001b[0m\n\u001b[1;37m     ^\u001b[0m\n\u001b[1;31mSyntaxError\u001b[0m\u001b[1;31m:\u001b[0m unterminated string literal (detected at line 1)\n"
     ]
    }
   ],
   "source": [
    "a'56"
   ]
  },
  {
   "cell_type": "code",
   "execution_count": 35,
   "id": "ce0f1044-b425-45a3-b2ce-d9adca5ca5f5",
   "metadata": {},
   "outputs": [
    {
     "ename": "SyntaxError",
     "evalue": "unterminated string literal (detected at line 1) (2314299212.py, line 1)",
     "output_type": "error",
     "traceback": [
      "\u001b[1;36m  Cell \u001b[1;32mIn[35], line 1\u001b[1;36m\u001b[0m\n\u001b[1;33m    a\"56\u001b[0m\n\u001b[1;37m     ^\u001b[0m\n\u001b[1;31mSyntaxError\u001b[0m\u001b[1;31m:\u001b[0m unterminated string literal (detected at line 1)\n"
     ]
    }
   ],
   "source": [
    "a\"56"
   ]
  },
  {
   "cell_type": "code",
   "execution_count": 36,
   "id": "1dc22f01-d9d2-495e-bedb-738c4b5d90c0",
   "metadata": {},
   "outputs": [
    {
     "ename": "SyntaxError",
     "evalue": "incomplete input (77616983.py, line 1)",
     "output_type": "error",
     "traceback": [
      "\u001b[1;36m  Cell \u001b[1;32mIn[36], line 1\u001b[1;36m\u001b[0m\n\u001b[1;33m    a[1\u001b[0m\n\u001b[1;37m       ^\u001b[0m\n\u001b[1;31mSyntaxError\u001b[0m\u001b[1;31m:\u001b[0m incomplete input\n"
     ]
    }
   ],
   "source": [
    "a[1"
   ]
  },
  {
   "cell_type": "code",
   "execution_count": 37,
   "id": "1e5e59f5-011c-4215-925d-44a713773b81",
   "metadata": {},
   "outputs": [
    {
     "ename": "SyntaxError",
     "evalue": "'{' was never closed (3351445260.py, line 1)",
     "output_type": "error",
     "traceback": [
      "\u001b[1;36m  Cell \u001b[1;32mIn[37], line 1\u001b[1;36m\u001b[0m\n\u001b[1;33m    a23{23\u001b[0m\n\u001b[1;37m       ^\u001b[0m\n\u001b[1;31mSyntaxError\u001b[0m\u001b[1;31m:\u001b[0m '{' was never closed\n"
     ]
    }
   ],
   "source": [
    "a23{23"
   ]
  },
  {
   "cell_type": "code",
   "execution_count": 38,
   "id": "90e32ced-8a15-4285-953d-720376d54b84",
   "metadata": {},
   "outputs": [
    {
     "ename": "SyntaxError",
     "evalue": "unmatched ']' (159192967.py, line 1)",
     "output_type": "error",
     "traceback": [
      "\u001b[1;36m  Cell \u001b[1;32mIn[38], line 1\u001b[1;36m\u001b[0m\n\u001b[1;33m    a]45\u001b[0m\n\u001b[1;37m     ^\u001b[0m\n\u001b[1;31mSyntaxError\u001b[0m\u001b[1;31m:\u001b[0m unmatched ']'\n"
     ]
    }
   ],
   "source": [
    "a]45"
   ]
  },
  {
   "cell_type": "code",
   "execution_count": 39,
   "id": "d41f0f2e-8b24-4a35-8988-7bad340998b7",
   "metadata": {},
   "outputs": [
    {
     "ename": "SyntaxError",
     "evalue": "unmatched '}' (4074017942.py, line 1)",
     "output_type": "error",
     "traceback": [
      "\u001b[1;36m  Cell \u001b[1;32mIn[39], line 1\u001b[1;36m\u001b[0m\n\u001b[1;33m    a}56\u001b[0m\n\u001b[1;37m     ^\u001b[0m\n\u001b[1;31mSyntaxError\u001b[0m\u001b[1;31m:\u001b[0m unmatched '}'\n"
     ]
    }
   ],
   "source": [
    "a}56"
   ]
  },
  {
   "cell_type": "code",
   "execution_count": 40,
   "id": "ed7c4a8c-cf0f-4ed8-ac29-597d95330de2",
   "metadata": {},
   "outputs": [
    {
     "data": {
      "text/plain": [
       "2"
      ]
     },
     "execution_count": 40,
     "metadata": {},
     "output_type": "execute_result"
    }
   ],
   "source": [
    "a|2"
   ]
  },
  {
   "cell_type": "code",
   "execution_count": 41,
   "id": "08dffcf4-aa73-4bf1-a86b-36c391fc6317",
   "metadata": {},
   "outputs": [
    {
     "ename": "SyntaxError",
     "evalue": "unexpected character after line continuation character (1658147902.py, line 1)",
     "output_type": "error",
     "traceback": [
      "\u001b[1;36m  Cell \u001b[1;32mIn[41], line 1\u001b[1;36m\u001b[0m\n\u001b[1;33m    a\\3\u001b[0m\n\u001b[1;37m      ^\u001b[0m\n\u001b[1;31mSyntaxError\u001b[0m\u001b[1;31m:\u001b[0m unexpected character after line continuation character\n"
     ]
    }
   ],
   "source": [
    "a\\3"
   ]
  },
  {
   "cell_type": "code",
   "execution_count": 42,
   "id": "02cf2113-084b-4b37-b292-30682c965e3a",
   "metadata": {},
   "outputs": [
    {
     "ename": "TypeError",
     "evalue": "unsupported operand type(s) for @=: 'int' and 'int'",
     "output_type": "error",
     "traceback": [
      "\u001b[1;31m---------------------------------------------------------------------------\u001b[0m",
      "\u001b[1;31mTypeError\u001b[0m                                 Traceback (most recent call last)",
      "Cell \u001b[1;32mIn[42], line 1\u001b[0m\n\u001b[1;32m----> 1\u001b[0m a\u001b[38;5;241m@\u001b[39m\u001b[38;5;241m=\u001b[39m\u001b[38;5;241m12\u001b[39m\n",
      "\u001b[1;31mTypeError\u001b[0m: unsupported operand type(s) for @=: 'int' and 'int'"
     ]
    }
   ],
   "source": [
    "a@=12"
   ]
  },
  {
   "cell_type": "code",
   "execution_count": 43,
   "id": "2f0cf578-401a-4e32-8c8a-2dfbd98c0fa8",
   "metadata": {},
   "outputs": [
    {
     "data": {
      "text/plain": [
       "True"
      ]
     },
     "execution_count": 43,
     "metadata": {},
     "output_type": "execute_result"
    }
   ],
   "source": [
    "a!=12"
   ]
  },
  {
   "cell_type": "code",
   "execution_count": 44,
   "id": "6a731dbb-2dd0-45eb-8c4e-1fe62eae62cd",
   "metadata": {},
   "outputs": [
    {
     "data": {
      "text/plain": [
       "2"
      ]
     },
     "execution_count": 44,
     "metadata": {},
     "output_type": "execute_result"
    }
   ],
   "source": [
    "a#=45"
   ]
  },
  {
   "cell_type": "code",
   "execution_count": 45,
   "id": "efca6d3d-e4b1-4328-ba9e-c34eb61e6871",
   "metadata": {},
   "outputs": [
    {
     "ename": "SyntaxError",
     "evalue": "invalid syntax (462491926.py, line 1)",
     "output_type": "error",
     "traceback": [
      "\u001b[1;36m  Cell \u001b[1;32mIn[45], line 1\u001b[1;36m\u001b[0m\n\u001b[1;33m    a$=45\u001b[0m\n\u001b[1;37m     ^\u001b[0m\n\u001b[1;31mSyntaxError\u001b[0m\u001b[1;31m:\u001b[0m invalid syntax\n"
     ]
    }
   ],
   "source": [
    "a$=45"
   ]
  },
  {
   "cell_type": "code",
   "execution_count": 46,
   "id": "53c28d5e-e7b4-468e-8b42-89eafc0a2d2c",
   "metadata": {},
   "outputs": [],
   "source": [
    "a%=67"
   ]
  },
  {
   "cell_type": "code",
   "execution_count": 47,
   "id": "5f5de32f-4054-4686-8247-1abac92308d3",
   "metadata": {},
   "outputs": [
    {
     "ename": "SyntaxError",
     "evalue": "invalid syntax (1959650914.py, line 1)",
     "output_type": "error",
     "traceback": [
      "\u001b[1;36m  Cell \u001b[1;32mIn[47], line 1\u001b[1;36m\u001b[0m\n\u001b[1;33m    a^=\u001b[0m\n\u001b[1;37m       ^\u001b[0m\n\u001b[1;31mSyntaxError\u001b[0m\u001b[1;31m:\u001b[0m invalid syntax\n"
     ]
    }
   ],
   "source": [
    "a^="
   ]
  },
  {
   "cell_type": "code",
   "execution_count": 48,
   "id": "1dffc1fe-5221-49af-8731-dbe77f44e30d",
   "metadata": {},
   "outputs": [],
   "source": [
    "a^=67"
   ]
  },
  {
   "cell_type": "code",
   "execution_count": 49,
   "id": "e4fa0b3b-4090-4f8b-8581-1304471c7d2c",
   "metadata": {},
   "outputs": [],
   "source": [
    "a&=89"
   ]
  },
  {
   "cell_type": "code",
   "execution_count": 50,
   "id": "7206e118-6228-44f8-a94f-1c04e705a595",
   "metadata": {},
   "outputs": [],
   "source": [
    "a*=90"
   ]
  },
  {
   "cell_type": "code",
   "execution_count": 51,
   "id": "07189e41-4d4c-48af-af63-cf0c7bee5e1c",
   "metadata": {},
   "outputs": [
    {
     "data": {
      "text/plain": [
       "5850"
      ]
     },
     "execution_count": 51,
     "metadata": {},
     "output_type": "execute_result"
    }
   ],
   "source": [
    "a"
   ]
  },
  {
   "cell_type": "code",
   "execution_count": 52,
   "id": "b8dc6891-8da7-4b99-b5eb-add4867aed78",
   "metadata": {},
   "outputs": [
    {
     "ename": "SyntaxError",
     "evalue": "invalid syntax (2417147249.py, line 1)",
     "output_type": "error",
     "traceback": [
      "\u001b[1;36m  Cell \u001b[1;32mIn[52], line 1\u001b[1;36m\u001b[0m\n\u001b[1;33m    a^\u001b[0m\n\u001b[1;37m      ^\u001b[0m\n\u001b[1;31mSyntaxError\u001b[0m\u001b[1;31m:\u001b[0m invalid syntax\n"
     ]
    }
   ],
   "source": [
    "a^"
   ]
  },
  {
   "cell_type": "code",
   "execution_count": 53,
   "id": "61573daa-04f0-4434-a586-8af9e4a3fa14",
   "metadata": {},
   "outputs": [
    {
     "ename": "SyntaxError",
     "evalue": "invalid decimal literal (2614488207.py, line 1)",
     "output_type": "error",
     "traceback": [
      "\u001b[1;36m  Cell \u001b[1;32mIn[53], line 1\u001b[1;36m\u001b[0m\n\u001b[1;33m    1_a=12\u001b[0m\n\u001b[1;37m     ^\u001b[0m\n\u001b[1;31mSyntaxError\u001b[0m\u001b[1;31m:\u001b[0m invalid decimal literal\n"
     ]
    }
   ],
   "source": [
    "1_a=12"
   ]
  },
  {
   "cell_type": "code",
   "execution_count": 54,
   "id": "a8a6a919-c147-40de-80ee-71b0bae34c38",
   "metadata": {},
   "outputs": [],
   "source": [
    "TRUE=23"
   ]
  },
  {
   "cell_type": "code",
   "execution_count": 55,
   "id": "15dedcd2-a77b-47d3-a42b-c1958d25b83b",
   "metadata": {},
   "outputs": [
    {
     "ename": "SyntaxError",
     "evalue": "cannot assign to True (1505068229.py, line 1)",
     "output_type": "error",
     "traceback": [
      "\u001b[1;36m  Cell \u001b[1;32mIn[55], line 1\u001b[1;36m\u001b[0m\n\u001b[1;33m    True=23\u001b[0m\n\u001b[1;37m    ^\u001b[0m\n\u001b[1;31mSyntaxError\u001b[0m\u001b[1;31m:\u001b[0m cannot assign to True\n"
     ]
    }
   ],
   "source": [
    "True=23"
   ]
  },
  {
   "cell_type": "code",
   "execution_count": 56,
   "id": "ba9911e1-06af-4902-b98c-2b9118e7526d",
   "metadata": {},
   "outputs": [
    {
     "ename": "SyntaxError",
     "evalue": "invalid syntax (2600800255.py, line 1)",
     "output_type": "error",
     "traceback": [
      "\u001b[1;36m  Cell \u001b[1;32mIn[56], line 1\u001b[1;36m\u001b[0m\n\u001b[1;33m    for=12\u001b[0m\n\u001b[1;37m       ^\u001b[0m\n\u001b[1;31mSyntaxError\u001b[0m\u001b[1;31m:\u001b[0m invalid syntax\n"
     ]
    }
   ],
   "source": [
    "for=12"
   ]
  },
  {
   "cell_type": "code",
   "execution_count": 57,
   "id": "1b68aca0-25e2-4e67-9889-a3658c81e379",
   "metadata": {},
   "outputs": [
    {
     "ename": "SyntaxError",
     "evalue": "invalid syntax (1409161198.py, line 1)",
     "output_type": "error",
     "traceback": [
      "\u001b[1;36m  Cell \u001b[1;32mIn[57], line 1\u001b[1;36m\u001b[0m\n\u001b[1;33m    if=23\u001b[0m\n\u001b[1;37m      ^\u001b[0m\n\u001b[1;31mSyntaxError\u001b[0m\u001b[1;31m:\u001b[0m invalid syntax\n"
     ]
    }
   ],
   "source": [
    "if=23"
   ]
  },
  {
   "cell_type": "code",
   "execution_count": 58,
   "id": "c170376a-b0fe-413c-9a43-cfbd33e90476",
   "metadata": {},
   "outputs": [
    {
     "ename": "SyntaxError",
     "evalue": "invalid syntax (1818847367.py, line 1)",
     "output_type": "error",
     "traceback": [
      "\u001b[1;36m  Cell \u001b[1;32mIn[58], line 1\u001b[1;36m\u001b[0m\n\u001b[1;33m    else=24\u001b[0m\n\u001b[1;37m    ^\u001b[0m\n\u001b[1;31mSyntaxError\u001b[0m\u001b[1;31m:\u001b[0m invalid syntax\n"
     ]
    }
   ],
   "source": [
    "else=24"
   ]
  },
  {
   "cell_type": "code",
   "execution_count": 59,
   "id": "9e1f03d1-fb2c-4cc4-89d6-5ced313c4ebc",
   "metadata": {},
   "outputs": [],
   "source": [
    "my_data =12"
   ]
  },
  {
   "cell_type": "code",
   "execution_count": 60,
   "id": "1aaa282d-908b-46b9-9baf-2e110fb399b0",
   "metadata": {},
   "outputs": [
    {
     "data": {
      "text/plain": [
       "12"
      ]
     },
     "execution_count": 60,
     "metadata": {},
     "output_type": "execute_result"
    }
   ],
   "source": [
    "my_data"
   ]
  },
  {
   "cell_type": "code",
   "execution_count": 61,
   "id": "8b22170e-c22c-41b0-b9b5-9c91a7f78147",
   "metadata": {},
   "outputs": [
    {
     "ename": "SyntaxError",
     "evalue": "invalid syntax (1618191358.py, line 1)",
     "output_type": "error",
     "traceback": [
      "\u001b[1;36m  Cell \u001b[1;32mIn[61], line 1\u001b[1;36m\u001b[0m\n\u001b[1;33m    se er=23\u001b[0m\n\u001b[1;37m       ^\u001b[0m\n\u001b[1;31mSyntaxError\u001b[0m\u001b[1;31m:\u001b[0m invalid syntax\n"
     ]
    }
   ],
   "source": [
    "se er=23"
   ]
  },
  {
   "cell_type": "markdown",
   "id": "8721a950-62e6-4d05-b4bb-713fbed267de",
   "metadata": {},
   "source": [
    "# data types"
   ]
  },
  {
   "cell_type": "code",
   "execution_count": null,
   "id": "7d1a9982-545a-4947-86b1-28d3f5f367ac",
   "metadata": {},
   "outputs": [],
   "source": [
    "strings or characters - string\n",
    "numeric - integer,float,complex\n",
    "sequences - arrays,lists,tuple,range\n",
    "mapping - dictionary\n",
    "set - sets,frozen sets\n",
    "boolean - bool\n",
    "binary - bytes,bytearray"
   ]
  },
  {
   "cell_type": "code",
   "execution_count": 62,
   "id": "8da4d7d0-76c0-40c1-ae96-6c7c7665d6a0",
   "metadata": {},
   "outputs": [],
   "source": [
    "name = \"sherlock homes\""
   ]
  },
  {
   "cell_type": "code",
   "execution_count": 63,
   "id": "8d043e01-fdd3-4d5a-8736-a87fcf987c25",
   "metadata": {},
   "outputs": [],
   "source": [
    "Name = \"'rasik'\""
   ]
  },
  {
   "cell_type": "code",
   "execution_count": 64,
   "id": "c7e049bc-530e-42b2-9889-2e63e71bb934",
   "metadata": {},
   "outputs": [
    {
     "data": {
      "text/plain": [
       "\"'rasik'\""
      ]
     },
     "execution_count": 64,
     "metadata": {},
     "output_type": "execute_result"
    }
   ],
   "source": [
    "Name"
   ]
  },
  {
   "cell_type": "code",
   "execution_count": 65,
   "id": "c8b0a92e-3c00-4ece-a9df-1be77c08fb72",
   "metadata": {},
   "outputs": [
    {
     "ename": "NameError",
     "evalue": "name 'typeofName' is not defined",
     "output_type": "error",
     "traceback": [
      "\u001b[1;31m---------------------------------------------------------------------------\u001b[0m",
      "\u001b[1;31mNameError\u001b[0m                                 Traceback (most recent call last)",
      "Cell \u001b[1;32mIn[65], line 1\u001b[0m\n\u001b[1;32m----> 1\u001b[0m typeofName\n",
      "\u001b[1;31mNameError\u001b[0m: name 'typeofName' is not defined"
     ]
    }
   ],
   "source": [
    "typeofName"
   ]
  },
  {
   "cell_type": "code",
   "execution_count": 66,
   "id": "e37ddc05-0188-4a86-8d33-450e96964e90",
   "metadata": {},
   "outputs": [
    {
     "data": {
      "text/plain": [
       "str"
      ]
     },
     "execution_count": 66,
     "metadata": {},
     "output_type": "execute_result"
    }
   ],
   "source": [
    "type(Name)"
   ]
  },
  {
   "cell_type": "code",
   "execution_count": 3,
   "id": "423dfd1f-6b07-4cd3-a1d3-1bb96d3f53d8",
   "metadata": {},
   "outputs": [],
   "source": [
    "sentence = \"Rasik Become a Billionier\""
   ]
  },
  {
   "cell_type": "code",
   "execution_count": 4,
   "id": "46831192-511d-41fe-a7fb-7ae748efdbe7",
   "metadata": {},
   "outputs": [
    {
     "data": {
      "text/plain": [
       "'Rasik Become a Billionier'"
      ]
     },
     "execution_count": 4,
     "metadata": {},
     "output_type": "execute_result"
    }
   ],
   "source": [
    "sentence"
   ]
  },
  {
   "cell_type": "code",
   "execution_count": 71,
   "id": "8d21e39a-4687-4814-86bc-108d17ff7e2d",
   "metadata": {},
   "outputs": [],
   "source": [
    "a=TRUE"
   ]
  },
  {
   "cell_type": "code",
   "execution_count": 72,
   "id": "3bc6b433-cc4b-434b-90c7-c41384ce6e77",
   "metadata": {},
   "outputs": [
    {
     "data": {
      "text/plain": [
       "int"
      ]
     },
     "execution_count": 72,
     "metadata": {},
     "output_type": "execute_result"
    }
   ],
   "source": [
    "type(a)"
   ]
  },
  {
   "cell_type": "code",
   "execution_count": 73,
   "id": "2ef692e1-5d06-4426-8f66-52299556361a",
   "metadata": {},
   "outputs": [],
   "source": [
    "a=True"
   ]
  },
  {
   "cell_type": "code",
   "execution_count": 74,
   "id": "cf8e7be1-f706-46c0-bf19-ba3e020ca1ba",
   "metadata": {},
   "outputs": [
    {
     "data": {
      "text/plain": [
       "bool"
      ]
     },
     "execution_count": 74,
     "metadata": {},
     "output_type": "execute_result"
    }
   ],
   "source": [
    "type(a)"
   ]
  },
  {
   "cell_type": "code",
   "execution_count": 1,
   "id": "3a16eab9-c980-40f3-bf40-0410d8793736",
   "metadata": {},
   "outputs": [
    {
     "name": "stdout",
     "output_type": "stream",
     "text": [
      "8\n"
     ]
    }
   ],
   "source": [
    "val = \"23534 54\"\n",
    "\n",
    "print(len(val))"
   ]
  },
  {
   "cell_type": "code",
   "execution_count": 5,
   "id": "b5b59769-99ab-484a-8a23-1a3979347be8",
   "metadata": {},
   "outputs": [
    {
     "data": {
      "text/plain": [
       "25"
      ]
     },
     "execution_count": 5,
     "metadata": {},
     "output_type": "execute_result"
    }
   ],
   "source": [
    "len(sentence)"
   ]
  },
  {
   "cell_type": "code",
   "execution_count": 6,
   "id": "80c0719d-a114-4689-b461-50b7bf0a3145",
   "metadata": {},
   "outputs": [
    {
     "data": {
      "text/plain": [
       "'RASIK BECOME A BILLIONIER'"
      ]
     },
     "execution_count": 6,
     "metadata": {},
     "output_type": "execute_result"
    }
   ],
   "source": [
    "sentence.upper()"
   ]
  },
  {
   "cell_type": "code",
   "execution_count": 7,
   "id": "2f36c2e5-158e-460a-be1d-a031fd0450b3",
   "metadata": {},
   "outputs": [
    {
     "data": {
      "text/plain": [
       "'rasik become a billionier'"
      ]
     },
     "execution_count": 7,
     "metadata": {},
     "output_type": "execute_result"
    }
   ],
   "source": [
    "sentence.lower()"
   ]
  },
  {
   "cell_type": "code",
   "execution_count": 8,
   "id": "21aa0f6a-61f7-42c8-a1e3-8d3dffb5b6f9",
   "metadata": {},
   "outputs": [
    {
     "data": {
      "text/plain": [
       "['Rasik', 'Become', 'a', 'Billionier']"
      ]
     },
     "execution_count": 8,
     "metadata": {},
     "output_type": "execute_result"
    }
   ],
   "source": [
    "sentence.split()"
   ]
  },
  {
   "cell_type": "code",
   "execution_count": 9,
   "id": "38f6f607-7ae0-4030-b636-ddfef2e356a9",
   "metadata": {},
   "outputs": [
    {
     "data": {
      "text/plain": [
       "'23534 54'"
      ]
     },
     "execution_count": 9,
     "metadata": {},
     "output_type": "execute_result"
    }
   ],
   "source": [
    "val.upper()"
   ]
  },
  {
   "cell_type": "code",
   "execution_count": 11,
   "id": "948b173c-e822-40fe-8a54-3f3bd0abb9d6",
   "metadata": {},
   "outputs": [
    {
     "data": {
      "text/plain": [
       "'Rasik become a billionier'"
      ]
     },
     "execution_count": 11,
     "metadata": {},
     "output_type": "execute_result"
    }
   ],
   "source": [
    "sentence.capitalize()"
   ]
  },
  {
   "cell_type": "code",
   "execution_count": 12,
   "id": "355b4345-e548-49fc-9411-38c661d6b39a",
   "metadata": {},
   "outputs": [
    {
     "data": {
      "text/plain": [
       "'s'"
      ]
     },
     "execution_count": 12,
     "metadata": {},
     "output_type": "execute_result"
    }
   ],
   "source": [
    "sentence[2]"
   ]
  },
  {
   "cell_type": "code",
   "execution_count": 13,
   "id": "f11ac308-374d-4f0f-841d-db739718909c",
   "metadata": {},
   "outputs": [
    {
     "ename": "TypeError",
     "evalue": "str.capitalize() takes no arguments (2 given)",
     "output_type": "error",
     "traceback": [
      "\u001b[1;31m---------------------------------------------------------------------------\u001b[0m",
      "\u001b[1;31mTypeError\u001b[0m                                 Traceback (most recent call last)",
      "Cell \u001b[1;32mIn[13], line 1\u001b[0m\n\u001b[1;32m----> 1\u001b[0m sentence\u001b[38;5;241m.\u001b[39mcapitalize(\u001b[38;5;241m0\u001b[39m,\u001b[38;5;241m6\u001b[39m)\n",
      "\u001b[1;31mTypeError\u001b[0m: str.capitalize() takes no arguments (2 given)"
     ]
    }
   ],
   "source": [
    "sentence.capitalize(0,6)"
   ]
  },
  {
   "cell_type": "code",
   "execution_count": 14,
   "id": "39157ba4-a55f-4130-b60b-b1c1f8c58a09",
   "metadata": {},
   "outputs": [
    {
     "ename": "AttributeError",
     "evalue": "'str' object has no attribute 'capitl'",
     "output_type": "error",
     "traceback": [
      "\u001b[1;31m---------------------------------------------------------------------------\u001b[0m",
      "\u001b[1;31mAttributeError\u001b[0m                            Traceback (most recent call last)",
      "Cell \u001b[1;32mIn[14], line 1\u001b[0m\n\u001b[1;32m----> 1\u001b[0m sentence\u001b[38;5;241m.\u001b[39mcapitl()\n",
      "\u001b[1;31mAttributeError\u001b[0m: 'str' object has no attribute 'capitl'"
     ]
    }
   ],
   "source": [
    "sentence.capitl()"
   ]
  },
  {
   "cell_type": "code",
   "execution_count": 15,
   "id": "aad9ec21-c819-413e-a743-f8375ecd9e21",
   "metadata": {},
   "outputs": [
    {
     "ename": "AttributeError",
     "evalue": "'str' object has no attribute 'capital'",
     "output_type": "error",
     "traceback": [
      "\u001b[1;31m---------------------------------------------------------------------------\u001b[0m",
      "\u001b[1;31mAttributeError\u001b[0m                            Traceback (most recent call last)",
      "Cell \u001b[1;32mIn[15], line 1\u001b[0m\n\u001b[1;32m----> 1\u001b[0m sentence\u001b[38;5;241m.\u001b[39mcapital()\n",
      "\u001b[1;31mAttributeError\u001b[0m: 'str' object has no attribute 'capital'"
     ]
    }
   ],
   "source": [
    "sentence.capital()"
   ]
  },
  {
   "cell_type": "code",
   "execution_count": 16,
   "id": "0ed964c6-e222-4e5d-9910-e83223554f0b",
   "metadata": {},
   "outputs": [
    {
     "ename": "NameError",
     "evalue": "name 'sentnce' is not defined",
     "output_type": "error",
     "traceback": [
      "\u001b[1;31m---------------------------------------------------------------------------\u001b[0m",
      "\u001b[1;31mNameError\u001b[0m                                 Traceback (most recent call last)",
      "Cell \u001b[1;32mIn[16], line 1\u001b[0m\n\u001b[1;32m----> 1\u001b[0m sentnce[\u001b[38;5;241m30\u001b[39m]\n",
      "\u001b[1;31mNameError\u001b[0m: name 'sentnce' is not defined"
     ]
    }
   ],
   "source": [
    "sentnce[30]"
   ]
  },
  {
   "cell_type": "code",
   "execution_count": 17,
   "id": "e51493c1-9431-46ed-b00f-22668ab05603",
   "metadata": {},
   "outputs": [
    {
     "ename": "IndexError",
     "evalue": "string index out of range",
     "output_type": "error",
     "traceback": [
      "\u001b[1;31m---------------------------------------------------------------------------\u001b[0m",
      "\u001b[1;31mIndexError\u001b[0m                                Traceback (most recent call last)",
      "Cell \u001b[1;32mIn[17], line 1\u001b[0m\n\u001b[1;32m----> 1\u001b[0m sentence[\u001b[38;5;241m30\u001b[39m]\n",
      "\u001b[1;31mIndexError\u001b[0m: string index out of range"
     ]
    }
   ],
   "source": [
    "sentence[30]"
   ]
  },
  {
   "cell_type": "code",
   "execution_count": 18,
   "id": "bf715694-dc3b-4249-8b0d-c991275ca694",
   "metadata": {},
   "outputs": [
    {
     "data": {
      "text/plain": [
       "'e'"
      ]
     },
     "execution_count": 18,
     "metadata": {},
     "output_type": "execute_result"
    }
   ],
   "source": [
    "sentence[-2]"
   ]
  },
  {
   "cell_type": "code",
   "execution_count": 19,
   "id": "39a29095-ebbe-423b-a6f5-0fc7043eb559",
   "metadata": {},
   "outputs": [
    {
     "data": {
      "text/plain": [
       "'Ras'"
      ]
     },
     "execution_count": 19,
     "metadata": {},
     "output_type": "execute_result"
    }
   ],
   "source": [
    "sentence[:3]"
   ]
  },
  {
   "cell_type": "code",
   "execution_count": 20,
   "id": "4abfc03d-0e7b-408e-9f18-a24f78eaad57",
   "metadata": {},
   "outputs": [
    {
     "data": {
      "text/plain": [
       "'her'"
      ]
     },
     "execution_count": 20,
     "metadata": {},
     "output_type": "execute_result"
    }
   ],
   "source": [
    "data = \"sherlock\"\n",
    "\n",
    "\n",
    "data[1:4]"
   ]
  },
  {
   "cell_type": "code",
   "execution_count": 21,
   "id": "910a2a81-4b81-41cd-8475-62033b9d7475",
   "metadata": {},
   "outputs": [
    {
     "data": {
      "text/plain": [
       "'loc'"
      ]
     },
     "execution_count": 21,
     "metadata": {},
     "output_type": "execute_result"
    }
   ],
   "source": [
    "data[4:7]"
   ]
  },
  {
   "cell_type": "code",
   "execution_count": 22,
   "id": "648e12bd-7e71-446a-b48a-56b814c24efa",
   "metadata": {},
   "outputs": [
    {
     "data": {
      "text/plain": [
       "'herlock'"
      ]
     },
     "execution_count": 22,
     "metadata": {},
     "output_type": "execute_result"
    }
   ],
   "source": [
    "data[1:]"
   ]
  },
  {
   "cell_type": "code",
   "execution_count": 23,
   "id": "22a6f52b-fa75-4aa4-8077-65b8b7cab848",
   "metadata": {},
   "outputs": [
    {
     "data": {
      "text/plain": [
       "'selc'"
      ]
     },
     "execution_count": 23,
     "metadata": {},
     "output_type": "execute_result"
    }
   ],
   "source": [
    "data[::2]"
   ]
  },
  {
   "cell_type": "code",
   "execution_count": 24,
   "id": "5182bf85-09e2-4c8b-a8bf-564b5f5d6bf4",
   "metadata": {},
   "outputs": [
    {
     "data": {
      "text/plain": [
       "'ik Become a Billionier'"
      ]
     },
     "execution_count": 24,
     "metadata": {},
     "output_type": "execute_result"
    }
   ],
   "source": [
    "sentence[3::]"
   ]
  },
  {
   "cell_type": "code",
   "execution_count": 27,
   "id": "e5955e73-8e1f-48af-bd08-63fc1cab45db",
   "metadata": {},
   "outputs": [],
   "source": [
    "a=678\n",
    "b=45.67\n",
    "c=7+5j\n",
    "\n"
   ]
  },
  {
   "cell_type": "code",
   "execution_count": 28,
   "id": "1268dfa6-3601-4a7f-bf7a-85133761ba87",
   "metadata": {},
   "outputs": [
    {
     "data": {
      "text/plain": [
       "int"
      ]
     },
     "execution_count": 28,
     "metadata": {},
     "output_type": "execute_result"
    }
   ],
   "source": [
    "type(a)"
   ]
  },
  {
   "cell_type": "code",
   "execution_count": 29,
   "id": "e4251632-ceb9-4d20-b125-064db6c16f0f",
   "metadata": {},
   "outputs": [
    {
     "data": {
      "text/plain": [
       "float"
      ]
     },
     "execution_count": 29,
     "metadata": {},
     "output_type": "execute_result"
    }
   ],
   "source": [
    "type(b)"
   ]
  },
  {
   "cell_type": "code",
   "execution_count": 30,
   "id": "e034e4c6-ee6f-4c4d-94a6-e0102505f9e2",
   "metadata": {},
   "outputs": [
    {
     "data": {
      "text/plain": [
       "complex"
      ]
     },
     "execution_count": 30,
     "metadata": {},
     "output_type": "execute_result"
    }
   ],
   "source": [
    "type(c)"
   ]
  },
  {
   "cell_type": "code",
   "execution_count": null,
   "id": "eac7878c-d0f6-42d2-91ab-c85a0a156951",
   "metadata": {},
   "outputs": [],
   "source": []
  }
 ],
 "metadata": {
  "kernelspec": {
   "display_name": "Python 3 (ipykernel)",
   "language": "python",
   "name": "python3"
  },
  "language_info": {
   "codemirror_mode": {
    "name": "ipython",
    "version": 3
   },
   "file_extension": ".py",
   "mimetype": "text/x-python",
   "name": "python",
   "nbconvert_exporter": "python",
   "pygments_lexer": "ipython3",
   "version": "3.11.9"
  }
 },
 "nbformat": 4,
 "nbformat_minor": 5
}
