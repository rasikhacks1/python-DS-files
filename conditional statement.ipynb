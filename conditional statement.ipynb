{
 "cells": [
  {
   "cell_type": "code",
   "execution_count": 1,
   "id": "10c20c82-d541-4d84-9263-95cfa2da6add",
   "metadata": {},
   "outputs": [
    {
     "ename": "SyntaxError",
     "evalue": "invalid syntax (3672492513.py, line 1)",
     "output_type": "error",
     "traceback": [
      "\u001b[1;36m  Cell \u001b[1;32mIn[1], line 1\u001b[1;36m\u001b[0m\n\u001b[1;33m    if<expression>:\u001b[0m\n\u001b[1;37m      ^\u001b[0m\n\u001b[1;31mSyntaxError\u001b[0m\u001b[1;31m:\u001b[0m invalid syntax\n"
     ]
    }
   ],
   "source": [
    "if<expression>:\n",
    "    <statement(s)>"
   ]
  },
  {
   "cell_type": "code",
   "execution_count": 2,
   "id": "68224aea-84f7-4ea8-9c2c-905dbf47562a",
   "metadata": {},
   "outputs": [
    {
     "ename": "SyntaxError",
     "evalue": "invalid syntax (3546361871.py, line 1)",
     "output_type": "error",
     "traceback": [
      "\u001b[1;36m  Cell \u001b[1;32mIn[2], line 1\u001b[1;36m\u001b[0m\n\u001b[1;33m    if<n=1>:\u001b[0m\n\u001b[1;37m      ^\u001b[0m\n\u001b[1;31mSyntaxError\u001b[0m\u001b[1;31m:\u001b[0m invalid syntax\n"
     ]
    }
   ],
   "source": [
    "if<n=1>:\n",
    "<Rasik>"
   ]
  },
  {
   "cell_type": "code",
   "execution_count": 3,
   "id": "8826b421-5e21-465a-9bee-2eff3746f00a",
   "metadata": {},
   "outputs": [
    {
     "ename": "SyntaxError",
     "evalue": "invalid syntax. Maybe you meant '==' or ':=' instead of '='? (903330364.py, line 1)",
     "output_type": "error",
     "traceback": [
      "\u001b[1;36m  Cell \u001b[1;32mIn[3], line 1\u001b[1;36m\u001b[0m\n\u001b[1;33m    if num=1:\u001b[0m\n\u001b[1;37m       ^\u001b[0m\n\u001b[1;31mSyntaxError\u001b[0m\u001b[1;31m:\u001b[0m invalid syntax. Maybe you meant '==' or ':=' instead of '='?\n"
     ]
    }
   ],
   "source": [
    "if num=1:\n",
    "Rasik"
   ]
  },
  {
   "cell_type": "code",
   "execution_count": 28,
   "id": "7f4cda9b-aa36-4f31-b0a9-f88a85e94f2e",
   "metadata": {},
   "outputs": [],
   "source": [
    "num1=45"
   ]
  },
  {
   "cell_type": "code",
   "execution_count": 29,
   "id": "0da2e7d3-19cc-478e-81d2-789a93ac3c36",
   "metadata": {},
   "outputs": [],
   "source": [
    "num2=56"
   ]
  },
  {
   "cell_type": "code",
   "execution_count": 35,
   "id": "a494e373-09b7-431b-bb95-94f717c5337e",
   "metadata": {},
   "outputs": [
    {
     "name": "stdout",
     "output_type": "stream",
     "text": [
      "the number 45 is greater than 56\n"
     ]
    }
   ],
   "source": [
    "if  num1==num2:\n",
    "    print(\"equa\")\n",
    "else: \n",
    "    print(f\"the number {num1} is greater than {num2}\")"
   ]
  },
  {
   "cell_type": "code",
   "execution_count": 38,
   "id": "8dbbb71c-9166-4ae4-806c-e7e5a9098678",
   "metadata": {},
   "outputs": [
    {
     "name": "stdin",
     "output_type": "stream",
     "text": [
      "Enter a number 34\n"
     ]
    }
   ],
   "source": [
    "user =int(input(\"Enter a number\"))"
   ]
  },
  {
   "cell_type": "code",
   "execution_count": 39,
   "id": "1afdd0cb-3727-4e36-8959-67783d424294",
   "metadata": {},
   "outputs": [
    {
     "name": "stdout",
     "output_type": "stream",
     "text": [
      "yes\n"
     ]
    }
   ],
   "source": [
    "if user%2==0:\n",
    "    print(\"yes\")\n",
    "else:\n",
    "    print(\"no\")"
   ]
  },
  {
   "cell_type": "code",
   "execution_count": 40,
   "id": "b5d1e0d8-bd01-4597-af3f-3421711494df",
   "metadata": {},
   "outputs": [
    {
     "name": "stdin",
     "output_type": "stream",
     "text": [
      "Enter a number 34\n",
      "Enter a number 56\n"
     ]
    },
    {
     "name": "stdout",
     "output_type": "stream",
     "text": [
      "no\n"
     ]
    }
   ],
   "source": [
    "num1 =int(input(\"Enter a number\"))\n",
    "num2 =int(input(\"Enter a number\"))\n",
    "if num1 % num2 ==0:\n",
    "    print(\"yes\")\n",
    "else:\n",
    "    print(\"no\")\n"
   ]
  },
  {
   "cell_type": "code",
   "execution_count": 9,
   "id": "dfa50d8e-2b7a-4014-9c6d-21bda0ce09b5",
   "metadata": {},
   "outputs": [
    {
     "name": "stdin",
     "output_type": "stream",
     "text": [
      "enter fisrt number 34\n"
     ]
    }
   ],
   "source": [
    "a =input(\"enter fisrt number\") "
   ]
  },
  {
   "cell_type": "code",
   "execution_count": 10,
   "id": "49e3614b-bcda-4782-9c21-53ab07c7d47f",
   "metadata": {},
   "outputs": [
    {
     "name": "stdout",
     "output_type": "stream",
     "text": [
      "the number 34 is positive.\n"
     ]
    }
   ],
   "source": [
    "if int(a)>=0:\n",
    "    print(f\"the number {a} is positive.\")\n",
    "else:\n",
    "    print(f\"the number {a} is negative.\")"
   ]
  },
  {
   "cell_type": "code",
   "execution_count": 25,
   "id": "fcd550b0-203b-4d94-9270-58768277118d",
   "metadata": {},
   "outputs": [
    {
     "name": "stdin",
     "output_type": "stream",
     "text": [
      "Enter a number 0\n"
     ]
    },
    {
     "name": "stdout",
     "output_type": "stream",
     "text": [
      "neutral\n"
     ]
    }
   ],
   "source": [
    "num1 =int(input(\"Enter a number\"))\n",
    "\n",
    "if num1 >0:\n",
    "    \n",
    "    print(\"negative\")\n",
    "else:\n",
    "   print(\"neutral\")"
   ]
  },
  {
   "cell_type": "code",
   "execution_count": 37,
   "id": "8c8088d3-a06e-4756-85ba-cbe71259cb25",
   "metadata": {},
   "outputs": [
    {
     "name": "stdin",
     "output_type": "stream",
     "text": [
      "do you have fever yes\n",
      "do you have cough yes\n",
      "you come from other country yes\n"
     ]
    },
    {
     "name": "stdout",
     "output_type": "stream",
     "text": [
      "you have covid go to hospital\n"
     ]
    }
   ],
   "source": [
    "a = str(input(\"do you have fever\"))\n",
    "b = str(input(\"do you have cough\"))\n",
    "c = str(input(\"you come from other country\"))\n",
    "\n",
    "if a=='yes' and b=='yes'and c =='yes':\n",
    "   print(\"you have covid go to hospital\")"
   ]
  },
  {
   "cell_type": "code",
   "execution_count": null,
   "id": "c715236f-3a37-491d-b595-e38dc879ab55",
   "metadata": {},
   "outputs": [],
   "source": []
  }
 ],
 "metadata": {
  "kernelspec": {
   "display_name": "Python 3 (ipykernel)",
   "language": "python",
   "name": "python3"
  },
  "language_info": {
   "codemirror_mode": {
    "name": "ipython",
    "version": 3
   },
   "file_extension": ".py",
   "mimetype": "text/x-python",
   "name": "python",
   "nbconvert_exporter": "python",
   "pygments_lexer": "ipython3",
   "version": "3.11.9"
  }
 },
 "nbformat": 4,
 "nbformat_minor": 5
}
