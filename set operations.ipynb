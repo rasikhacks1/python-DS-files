{
 "cells": [
  {
   "cell_type": "code",
   "execution_count": 1,
   "id": "a51f2ba1-1b0a-4e0e-b373-a82c8d4ff8a6",
   "metadata": {},
   "outputs": [],
   "source": [
    "name ={1,2,3,8,4,\"hi\",\"rasik\",6+7j,5,\"Hi\",1,2}"
   ]
  },
  {
   "cell_type": "code",
   "execution_count": 2,
   "id": "0aa513a0-b673-4b60-bb85-c6a554e53aec",
   "metadata": {},
   "outputs": [
    {
     "data": {
      "text/plain": [
       "{(6+7j), 1, 2, 3, 4, 5, 8, 'Hi', 'hi', 'rasik'}"
      ]
     },
     "execution_count": 2,
     "metadata": {},
     "output_type": "execute_result"
    }
   ],
   "source": [
    "name\n"
   ]
  },
  {
   "cell_type": "code",
   "execution_count": 3,
   "id": "eded45dd-e881-482e-abeb-dcc125aad597",
   "metadata": {},
   "outputs": [
    {
     "data": {
      "text/plain": [
       "{(6+7j), 1, 2, 3, 4, 5, 8, 'Hi', 'hi', 'rasik'}"
      ]
     },
     "execution_count": 3,
     "metadata": {},
     "output_type": "execute_result"
    }
   ],
   "source": [
    "name"
   ]
  },
  {
   "cell_type": "code",
   "execution_count": 4,
   "id": "ae73b578-b93f-47a5-a2d9-c3fcafba2148",
   "metadata": {},
   "outputs": [
    {
     "data": {
      "text/plain": [
       "10"
      ]
     },
     "execution_count": 4,
     "metadata": {},
     "output_type": "execute_result"
    }
   ],
   "source": [
    "len(name)"
   ]
  },
  {
   "cell_type": "code",
   "execution_count": 5,
   "id": "32a4fe5a-040c-4378-82a2-4d6eef21b270",
   "metadata": {},
   "outputs": [
    {
     "data": {
      "text/plain": [
       "set"
      ]
     },
     "execution_count": 5,
     "metadata": {},
     "output_type": "execute_result"
    }
   ],
   "source": [
    "type(name)"
   ]
  },
  {
   "cell_type": "code",
   "execution_count": 6,
   "id": "67ed3f82-ed19-4022-903d-b8f5d4c18050",
   "metadata": {},
   "outputs": [],
   "source": [
    "name.add(\"risk\")"
   ]
  },
  {
   "cell_type": "code",
   "execution_count": 7,
   "id": "7bc50a6a-0278-4783-991c-ae128280efaf",
   "metadata": {},
   "outputs": [
    {
     "data": {
      "text/plain": [
       "{(6+7j), 1, 2, 3, 4, 5, 8, 'Hi', 'hi', 'rasik', 'risk'}"
      ]
     },
     "execution_count": 7,
     "metadata": {},
     "output_type": "execute_result"
    }
   ],
   "source": [
    "name"
   ]
  },
  {
   "cell_type": "code",
   "execution_count": 8,
   "id": "8e6b9129-dc38-4161-88bf-0113bdf5013b",
   "metadata": {},
   "outputs": [],
   "source": [
    "name.update(\"lisk\")"
   ]
  },
  {
   "cell_type": "code",
   "execution_count": 9,
   "id": "38bb4f27-7f30-4d85-b5d6-2e49bab2d733",
   "metadata": {},
   "outputs": [
    {
     "data": {
      "text/plain": [
       "{(6+7j), 1, 2, 3, 4, 5, 8, 'Hi', 'hi', 'i', 'k', 'l', 'rasik', 'risk', 's'}"
      ]
     },
     "execution_count": 9,
     "metadata": {},
     "output_type": "execute_result"
    }
   ],
   "source": [
    "name"
   ]
  },
  {
   "cell_type": "code",
   "execution_count": 10,
   "id": "b49e0ef9-3959-4827-a309-ffae06203103",
   "metadata": {},
   "outputs": [],
   "source": [
    "name.update({\"disk\"})"
   ]
  },
  {
   "cell_type": "code",
   "execution_count": 11,
   "id": "e94615ef-7b10-467d-8ae2-5db58aca2a10",
   "metadata": {},
   "outputs": [
    {
     "data": {
      "text/plain": [
       "{(6+7j),\n",
       " 1,\n",
       " 2,\n",
       " 3,\n",
       " 4,\n",
       " 5,\n",
       " 8,\n",
       " 'Hi',\n",
       " 'disk',\n",
       " 'hi',\n",
       " 'i',\n",
       " 'k',\n",
       " 'l',\n",
       " 'rasik',\n",
       " 'risk',\n",
       " 's'}"
      ]
     },
     "execution_count": 11,
     "metadata": {},
     "output_type": "execute_result"
    }
   ],
   "source": [
    "name"
   ]
  },
  {
   "cell_type": "code",
   "execution_count": 12,
   "id": "eb64d62b-6785-4fa7-ad89-dd772c736a81",
   "metadata": {},
   "outputs": [
    {
     "ename": "NameError",
     "evalue": "name 'disk' is not defined",
     "output_type": "error",
     "traceback": [
      "\u001b[1;31m---------------------------------------------------------------------------\u001b[0m",
      "\u001b[1;31mNameError\u001b[0m                                 Traceback (most recent call last)",
      "Cell \u001b[1;32mIn[12], line 1\u001b[0m\n\u001b[1;32m----> 1\u001b[0m name\u001b[38;5;241m.\u001b[39mremove(disk)\n",
      "\u001b[1;31mNameError\u001b[0m: name 'disk' is not defined"
     ]
    }
   ],
   "source": [
    "name.remove(disk)"
   ]
  },
  {
   "cell_type": "code",
   "execution_count": 13,
   "id": "4ffa54e4-ef49-4798-a72b-adf1b03d9688",
   "metadata": {},
   "outputs": [],
   "source": [
    "name.remove(6+7j)"
   ]
  },
  {
   "cell_type": "code",
   "execution_count": 14,
   "id": "faf6d854-5526-4167-8140-7bef734c6845",
   "metadata": {},
   "outputs": [
    {
     "data": {
      "text/plain": [
       "{1, 2, 3, 4, 5, 8, 'Hi', 'disk', 'hi', 'i', 'k', 'l', 'rasik', 'risk', 's'}"
      ]
     },
     "execution_count": 14,
     "metadata": {},
     "output_type": "execute_result"
    }
   ],
   "source": [
    "name"
   ]
  },
  {
   "cell_type": "code",
   "execution_count": 15,
   "id": "579f0415-a742-4bd7-b1e2-e5c21ce8162c",
   "metadata": {},
   "outputs": [],
   "source": [
    "name.discard(4)"
   ]
  },
  {
   "cell_type": "code",
   "execution_count": 16,
   "id": "735d5754-1012-4ab2-9e73-48db0540bff0",
   "metadata": {},
   "outputs": [
    {
     "data": {
      "text/plain": [
       "{1, 2, 3, 5, 8, 'Hi', 'disk', 'hi', 'i', 'k', 'l', 'rasik', 'risk', 's'}"
      ]
     },
     "execution_count": 16,
     "metadata": {},
     "output_type": "execute_result"
    }
   ],
   "source": [
    "name"
   ]
  },
  {
   "cell_type": "code",
   "execution_count": 17,
   "id": "9185c90b-6875-47f7-876e-46b439a92650",
   "metadata": {},
   "outputs": [
    {
     "data": {
      "text/plain": [
       "1"
      ]
     },
     "execution_count": 17,
     "metadata": {},
     "output_type": "execute_result"
    }
   ],
   "source": [
    "name.pop()"
   ]
  },
  {
   "cell_type": "code",
   "execution_count": 18,
   "id": "243cbcbe-056f-4129-a47b-bce802fe38c4",
   "metadata": {},
   "outputs": [
    {
     "data": {
      "text/plain": [
       "{2, 3, 5, 8, 'Hi', 'disk', 'hi', 'i', 'k', 'l', 'rasik', 'risk', 's'}"
      ]
     },
     "execution_count": 18,
     "metadata": {},
     "output_type": "execute_result"
    }
   ],
   "source": [
    "name"
   ]
  },
  {
   "cell_type": "code",
   "execution_count": null,
   "id": "99eeba90-b6fe-488e-abca-731abce50bb8",
   "metadata": {},
   "outputs": [],
   "source": [
    "name"
   ]
  },
  {
   "cell_type": "code",
   "execution_count": 19,
   "id": "ec552a6b-4250-4277-813e-568f8cc068ce",
   "metadata": {},
   "outputs": [
    {
     "ename": "NameError",
     "evalue": "name 'a' is not defined",
     "output_type": "error",
     "traceback": [
      "\u001b[1;31m---------------------------------------------------------------------------\u001b[0m",
      "\u001b[1;31mNameError\u001b[0m                                 Traceback (most recent call last)",
      "Cell \u001b[1;32mIn[19], line 1\u001b[0m\n\u001b[1;32m----> 1\u001b[0m name \u001b[38;5;241m|\u001b[39m a\n",
      "\u001b[1;31mNameError\u001b[0m: name 'a' is not defined"
     ]
    }
   ],
   "source": [
    "name | a"
   ]
  },
  {
   "cell_type": "code",
   "execution_count": 20,
   "id": "70a120ce-703c-41fd-8911-0a1a2d8f2f6e",
   "metadata": {},
   "outputs": [],
   "source": [
    "a = {\"name\"}"
   ]
  },
  {
   "cell_type": "code",
   "execution_count": 21,
   "id": "7678bca5-eb09-479e-a726-d9be6d65c6e1",
   "metadata": {},
   "outputs": [
    {
     "data": {
      "text/plain": [
       "{2, 3, 5, 8, 'Hi', 'disk', 'hi', 'i', 'k', 'l', 'name', 'rasik', 'risk', 's'}"
      ]
     },
     "execution_count": 21,
     "metadata": {},
     "output_type": "execute_result"
    }
   ],
   "source": [
    "name | a"
   ]
  },
  {
   "cell_type": "code",
   "execution_count": 22,
   "id": "4650186b-d42e-4b89-a1d7-9b3927c5217e",
   "metadata": {},
   "outputs": [
    {
     "data": {
      "text/plain": [
       "set()"
      ]
     },
     "execution_count": 22,
     "metadata": {},
     "output_type": "execute_result"
    }
   ],
   "source": [
    "name & a"
   ]
  },
  {
   "cell_type": "code",
   "execution_count": null,
   "id": "5d07fcd7-c2c6-458c-8590-448af7931fe2",
   "metadata": {},
   "outputs": [],
   "source": []
  }
 ],
 "metadata": {
  "kernelspec": {
   "display_name": "Python 3 (ipykernel)",
   "language": "python",
   "name": "python3"
  },
  "language_info": {
   "codemirror_mode": {
    "name": "ipython",
    "version": 3
   },
   "file_extension": ".py",
   "mimetype": "text/x-python",
   "name": "python",
   "nbconvert_exporter": "python",
   "pygments_lexer": "ipython3",
   "version": "3.11.9"
  }
 },
 "nbformat": 4,
 "nbformat_minor": 5
}
