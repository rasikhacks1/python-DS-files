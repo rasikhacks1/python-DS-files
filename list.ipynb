{
 "cells": [
  {
   "cell_type": "markdown",
   "id": "3a423333-ad59-4051-95ce-655e62e872aa",
   "metadata": {},
   "source": [
    "#crate list"
   ]
  },
  {
   "cell_type": "code",
   "execution_count": 3,
   "id": "c618415b-a3d0-43e4-b8d7-56b38be4ebe0",
   "metadata": {},
   "outputs": [],
   "source": [
    "fruits = [\"watermelon\", \"apple\",\"banana\"]"
   ]
  },
  {
   "cell_type": "code",
   "execution_count": 4,
   "id": "fbc5a8ae-3d35-426a-8c41-aa0431f0019e",
   "metadata": {},
   "outputs": [
    {
     "data": {
      "text/plain": [
       "['watermelon', 'apple', 'banana']"
      ]
     },
     "execution_count": 4,
     "metadata": {},
     "output_type": "execute_result"
    }
   ],
   "source": [
    "fruits"
   ]
  },
  {
   "cell_type": "code",
   "execution_count": 5,
   "id": "58efa9b6-bea7-4c84-ab7b-47102af4cfa4",
   "metadata": {},
   "outputs": [
    {
     "data": {
      "text/plain": [
       "list"
      ]
     },
     "execution_count": 5,
     "metadata": {},
     "output_type": "execute_result"
    }
   ],
   "source": [
    "type(fruits)"
   ]
  },
  {
   "cell_type": "code",
   "execution_count": 6,
   "id": "eec6156b-c821-459b-8959-232fb555bd61",
   "metadata": {},
   "outputs": [],
   "source": [
    "name = [\"student\",23,3.4,2+5j]"
   ]
  },
  {
   "cell_type": "code",
   "execution_count": 7,
   "id": "4b82db5b-be9f-4836-9ea5-cfc9ac8de566",
   "metadata": {},
   "outputs": [
    {
     "data": {
      "text/plain": [
       "list"
      ]
     },
     "execution_count": 7,
     "metadata": {},
     "output_type": "execute_result"
    }
   ],
   "source": [
    "type(name)"
   ]
  },
  {
   "cell_type": "code",
   "execution_count": 11,
   "id": "96f6e1de-4a38-4005-9da0-8ea34a3e01b7",
   "metadata": {},
   "outputs": [
    {
     "data": {
      "text/plain": [
       "['student', 23, 3.4, (2+5j)]"
      ]
     },
     "execution_count": 11,
     "metadata": {},
     "output_type": "execute_result"
    }
   ],
   "source": [
    "name"
   ]
  },
  {
   "cell_type": "code",
   "execution_count": 12,
   "id": "0122aa1e-5f3f-429b-b8da-a361dd125a5e",
   "metadata": {},
   "outputs": [
    {
     "data": {
      "text/plain": [
       "4"
      ]
     },
     "execution_count": 12,
     "metadata": {},
     "output_type": "execute_result"
    }
   ],
   "source": [
    "len(name)"
   ]
  },
  {
   "cell_type": "code",
   "execution_count": 13,
   "id": "7d15a3f8-3aa7-40b1-ab2b-8b20acead380",
   "metadata": {},
   "outputs": [
    {
     "ename": "IndexError",
     "evalue": "list index out of range",
     "output_type": "error",
     "traceback": [
      "\u001b[1;31m---------------------------------------------------------------------------\u001b[0m",
      "\u001b[1;31mIndexError\u001b[0m                                Traceback (most recent call last)",
      "Cell \u001b[1;32mIn[13], line 1\u001b[0m\n\u001b[1;32m----> 1\u001b[0m name[\u001b[38;5;241m4\u001b[39m]\n",
      "\u001b[1;31mIndexError\u001b[0m: list index out of range"
     ]
    }
   ],
   "source": [
    "name[4]"
   ]
  },
  {
   "cell_type": "code",
   "execution_count": 14,
   "id": "77df0c87-a2b7-4acc-be5a-5004c7c3fe62",
   "metadata": {},
   "outputs": [
    {
     "data": {
      "text/plain": [
       "(2+5j)"
      ]
     },
     "execution_count": 14,
     "metadata": {},
     "output_type": "execute_result"
    }
   ],
   "source": [
    "name[3]"
   ]
  },
  {
   "cell_type": "code",
   "execution_count": 15,
   "id": "33c53d8f-ef13-45eb-9d2a-33b7d11758fd",
   "metadata": {},
   "outputs": [
    {
     "data": {
      "text/plain": [
       "(2+5j)"
      ]
     },
     "execution_count": 15,
     "metadata": {},
     "output_type": "execute_result"
    }
   ],
   "source": [
    "name[-1]"
   ]
  },
  {
   "cell_type": "code",
   "execution_count": 16,
   "id": "52f21e87-f6c4-4569-a94d-f45e039c525d",
   "metadata": {},
   "outputs": [
    {
     "ename": "AttributeError",
     "evalue": "'list' object has no attribute 'appemd'",
     "output_type": "error",
     "traceback": [
      "\u001b[1;31m---------------------------------------------------------------------------\u001b[0m",
      "\u001b[1;31mAttributeError\u001b[0m                            Traceback (most recent call last)",
      "Cell \u001b[1;32mIn[16], line 1\u001b[0m\n\u001b[1;32m----> 1\u001b[0m fruits\u001b[38;5;241m.\u001b[39mappemd\n",
      "\u001b[1;31mAttributeError\u001b[0m: 'list' object has no attribute 'appemd'"
     ]
    }
   ],
   "source": [
    "fruits.appemd"
   ]
  },
  {
   "cell_type": "code",
   "execution_count": 17,
   "id": "bfa448f2-5a91-48e7-a7aa-9168b4bab21a",
   "metadata": {},
   "outputs": [],
   "source": [
    "fruits.append(\"orange\")"
   ]
  },
  {
   "cell_type": "code",
   "execution_count": 18,
   "id": "be129247-364a-40a9-adfa-9863de5bd192",
   "metadata": {},
   "outputs": [
    {
     "data": {
      "text/plain": [
       "['watermelon', 'apple', 'banana', 'orange']"
      ]
     },
     "execution_count": 18,
     "metadata": {},
     "output_type": "execute_result"
    }
   ],
   "source": [
    "fruits"
   ]
  },
  {
   "cell_type": "code",
   "execution_count": 19,
   "id": "496159d9-d00a-42da-beb5-a13dce3541fb",
   "metadata": {},
   "outputs": [],
   "source": [
    "fruits.extend(name)"
   ]
  },
  {
   "cell_type": "code",
   "execution_count": 20,
   "id": "54556d82-620f-4d10-b99f-eb47a2543752",
   "metadata": {},
   "outputs": [
    {
     "data": {
      "text/plain": [
       "['watermelon', 'apple', 'banana', 'orange', 'student', 23, 3.4, (2+5j)]"
      ]
     },
     "execution_count": 20,
     "metadata": {},
     "output_type": "execute_result"
    }
   ],
   "source": [
    "fruits"
   ]
  },
  {
   "cell_type": "code",
   "execution_count": 21,
   "id": "85d97e2a-2cb2-46d2-8fb0-0579d656df12",
   "metadata": {},
   "outputs": [],
   "source": [
    "fruits.remove(\"apple\")"
   ]
  },
  {
   "cell_type": "code",
   "execution_count": 22,
   "id": "20a4ae37-ff83-40e1-aa0e-ba58fe8e14fb",
   "metadata": {},
   "outputs": [
    {
     "name": "stdout",
     "output_type": "stream",
     "text": [
      "['watermelon', 'banana', 'orange', 'student', 23, 3.4, (2+5j)]\n"
     ]
    }
   ],
   "source": [
    "print(fruits)"
   ]
  },
  {
   "cell_type": "code",
   "execution_count": 23,
   "id": "73ca589f-f81c-42ba-9335-12ef2825fffc",
   "metadata": {},
   "outputs": [
    {
     "data": {
      "text/plain": [
       "'watermelon'"
      ]
     },
     "execution_count": 23,
     "metadata": {},
     "output_type": "execute_result"
    }
   ],
   "source": [
    "fruits.pop(0)"
   ]
  },
  {
   "cell_type": "code",
   "execution_count": 24,
   "id": "db1dd0a1-d4b2-4b1f-a236-9db27297c7a1",
   "metadata": {},
   "outputs": [
    {
     "data": {
      "text/plain": [
       "(2+5j)"
      ]
     },
     "execution_count": 24,
     "metadata": {},
     "output_type": "execute_result"
    }
   ],
   "source": [
    "fruits.pop()"
   ]
  },
  {
   "cell_type": "code",
   "execution_count": 25,
   "id": "65ec7451-c78a-4909-b0d3-2d59b2a03c46",
   "metadata": {},
   "outputs": [
    {
     "data": {
      "text/plain": [
       "['banana', 'orange', 'student', 23, 3.4]"
      ]
     },
     "execution_count": 25,
     "metadata": {},
     "output_type": "execute_result"
    }
   ],
   "source": [
    "fruits"
   ]
  },
  {
   "cell_type": "code",
   "execution_count": 26,
   "id": "4953cfcd-a878-43f2-bb8d-1fc5be880519",
   "metadata": {},
   "outputs": [],
   "source": [
    "del fruits[1]"
   ]
  },
  {
   "cell_type": "code",
   "execution_count": 27,
   "id": "65e889c9-90f7-4f67-b177-47cc38c9f22b",
   "metadata": {},
   "outputs": [
    {
     "data": {
      "text/plain": [
       "['banana', 'student', 23, 3.4]"
      ]
     },
     "execution_count": 27,
     "metadata": {},
     "output_type": "execute_result"
    }
   ],
   "source": [
    "fruits"
   ]
  },
  {
   "cell_type": "code",
   "execution_count": 28,
   "id": "2a1e31d3-76b9-4dc9-b53f-048dd8ffb95f",
   "metadata": {},
   "outputs": [],
   "source": [
    "a = name.copy()"
   ]
  },
  {
   "cell_type": "code",
   "execution_count": 29,
   "id": "c94fc517-e1f5-4350-add3-8e99d967540c",
   "metadata": {},
   "outputs": [
    {
     "data": {
      "text/plain": [
       "['student', 23, 3.4, (2+5j)]"
      ]
     },
     "execution_count": 29,
     "metadata": {},
     "output_type": "execute_result"
    }
   ],
   "source": [
    "a"
   ]
  },
  {
   "cell_type": "code",
   "execution_count": null,
   "id": "9d3e204e-c70c-432e-97ab-34180d7f2dae",
   "metadata": {},
   "outputs": [],
   "source": []
  }
 ],
 "metadata": {
  "kernelspec": {
   "display_name": "Python 3 (ipykernel)",
   "language": "python",
   "name": "python3"
  },
  "language_info": {
   "codemirror_mode": {
    "name": "ipython",
    "version": 3
   },
   "file_extension": ".py",
   "mimetype": "text/x-python",
   "name": "python",
   "nbconvert_exporter": "python",
   "pygments_lexer": "ipython3",
   "version": "3.11.9"
  }
 },
 "nbformat": 4,
 "nbformat_minor": 5
}
