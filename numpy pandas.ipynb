{
 "cells": [
  {
   "cell_type": "code",
   "execution_count": 1,
   "id": "308c3584-c2b5-4c34-8e6e-c1b0e87aa8a7",
   "metadata": {},
   "outputs": [
    {
     "name": "stdout",
     "output_type": "stream",
     "text": [
      "Collecting numpy\n",
      "  Downloading numpy-2.0.1-cp311-cp311-win_amd64.whl.metadata (60 kB)\n",
      "     ---------------------------------------- 0.0/60.9 kB ? eta -:--:--\n",
      "     ------------------- ------------------ 30.7/60.9 kB 660.6 kB/s eta 0:00:01\n",
      "     ------------------------------- ------ 51.2/60.9 kB 660.6 kB/s eta 0:00:01\n",
      "     ------------------------------- ------ 51.2/60.9 kB 660.6 kB/s eta 0:00:01\n",
      "     -------------------------------------- 60.9/60.9 kB 270.9 kB/s eta 0:00:00\n",
      "Downloading numpy-2.0.1-cp311-cp311-win_amd64.whl (16.6 MB)\n",
      "   ---------------------------------------- 0.0/16.6 MB ? eta -:--:--\n",
      "   - -------------------------------------- 0.6/16.6 MB 17.6 MB/s eta 0:00:01\n",
      "   --- ------------------------------------ 1.5/16.6 MB 19.6 MB/s eta 0:00:01\n",
      "   ----- ---------------------------------- 2.4/16.6 MB 19.2 MB/s eta 0:00:01\n",
      "   ------- -------------------------------- 3.3/16.6 MB 19.0 MB/s eta 0:00:01\n",
      "   ---------- ----------------------------- 4.1/16.6 MB 18.9 MB/s eta 0:00:01\n",
      "   ------------ --------------------------- 5.1/16.6 MB 19.0 MB/s eta 0:00:01\n",
      "   -------------- ------------------------- 5.9/16.6 MB 18.9 MB/s eta 0:00:01\n",
      "   ---------------- ----------------------- 6.9/16.6 MB 19.1 MB/s eta 0:00:01\n",
      "   ------------------ --------------------- 7.8/16.6 MB 19.1 MB/s eta 0:00:01\n",
      "   -------------------- ------------------- 8.7/16.6 MB 19.1 MB/s eta 0:00:01\n",
      "   ----------------------- ---------------- 9.5/16.6 MB 19.1 MB/s eta 0:00:01\n",
      "   ------------------------- -------------- 10.5/16.6 MB 18.7 MB/s eta 0:00:01\n",
      "   --------------------------- ------------ 11.4/16.6 MB 19.3 MB/s eta 0:00:01\n",
      "   ----------------------------- ---------- 12.1/16.6 MB 18.7 MB/s eta 0:00:01\n",
      "   ------------------------------ --------- 12.7/16.6 MB 18.7 MB/s eta 0:00:01\n",
      "   -------------------------------- ------- 13.6/16.6 MB 18.7 MB/s eta 0:00:01\n",
      "   ----------------------------------- ---- 14.5/16.6 MB 18.7 MB/s eta 0:00:01\n",
      "   ------------------------------------- -- 15.4/16.6 MB 18.2 MB/s eta 0:00:01\n",
      "   ---------------------------------------  16.3/16.6 MB 18.7 MB/s eta 0:00:01\n",
      "   ---------------------------------------  16.6/16.6 MB 17.7 MB/s eta 0:00:01\n",
      "   ---------------------------------------  16.6/16.6 MB 17.7 MB/s eta 0:00:01\n",
      "   ---------------------------------------  16.6/16.6 MB 17.7 MB/s eta 0:00:01\n",
      "   ---------------------------------------  16.6/16.6 MB 17.7 MB/s eta 0:00:01\n",
      "   ---------------------------------------  16.6/16.6 MB 17.7 MB/s eta 0:00:01\n",
      "   ---------------------------------------  16.6/16.6 MB 17.7 MB/s eta 0:00:01\n",
      "   ---------------------------------------  16.6/16.6 MB 17.7 MB/s eta 0:00:01\n",
      "   ---------------------------------------  16.6/16.6 MB 17.7 MB/s eta 0:00:01\n",
      "   ---------------------------------------  16.6/16.6 MB 17.7 MB/s eta 0:00:01\n",
      "   ---------------------------------------  16.6/16.6 MB 17.7 MB/s eta 0:00:01\n",
      "   ---------------------------------------  16.6/16.6 MB 17.7 MB/s eta 0:00:01\n",
      "   ---------------------------------------  16.6/16.6 MB 17.7 MB/s eta 0:00:01\n",
      "   ---------------------------------------  16.6/16.6 MB 17.7 MB/s eta 0:00:01\n",
      "   ---------------------------------------  16.6/16.6 MB 17.7 MB/s eta 0:00:01\n",
      "   ---------------------------------------  16.6/16.6 MB 17.7 MB/s eta 0:00:01\n",
      "   ---------------------------------------  16.6/16.6 MB 17.7 MB/s eta 0:00:01\n",
      "   ---------------------------------------  16.6/16.6 MB 17.7 MB/s eta 0:00:01\n",
      "   ---------------------------------------  16.6/16.6 MB 17.7 MB/s eta 0:00:01\n",
      "   ---------------------------------------  16.6/16.6 MB 17.7 MB/s eta 0:00:01\n",
      "   ---------------------------------------  16.6/16.6 MB 17.7 MB/s eta 0:00:01\n",
      "   ---------------------------------------  16.6/16.6 MB 17.7 MB/s eta 0:00:01\n",
      "   ---------------------------------------  16.6/16.6 MB 17.7 MB/s eta 0:00:01\n",
      "   ---------------------------------------  16.6/16.6 MB 17.7 MB/s eta 0:00:01\n",
      "   ---------------------------------------  16.6/16.6 MB 17.7 MB/s eta 0:00:01\n",
      "   ---------------------------------------  16.6/16.6 MB 17.7 MB/s eta 0:00:01\n",
      "   ---------------------------------------  16.6/16.6 MB 17.7 MB/s eta 0:00:01\n",
      "   ---------------------------------------  16.6/16.6 MB 17.7 MB/s eta 0:00:01\n",
      "   ---------------------------------------- 16.6/16.6 MB 4.5 MB/s eta 0:00:00\n",
      "Installing collected packages: numpy\n",
      "Successfully installed numpy-2.0.1\n",
      "Note: you may need to restart the kernel to use updated packages.\n"
     ]
    }
   ],
   "source": [
    "pip install numpy"
   ]
  },
  {
   "cell_type": "code",
   "execution_count": 2,
   "id": "08331d1a-d1b4-46f7-ab88-52e747122854",
   "metadata": {},
   "outputs": [
    {
     "name": "stdout",
     "output_type": "stream",
     "text": [
      "Collecting pandas\n",
      "  Downloading pandas-2.2.2-cp311-cp311-win_amd64.whl.metadata (19 kB)\n",
      "Requirement already satisfied: numpy>=1.23.2 in c:\\users\\aedpu\\anaconda3\\envs\\rasikcse\\lib\\site-packages (from pandas) (2.0.1)\n",
      "Requirement already satisfied: python-dateutil>=2.8.2 in c:\\users\\aedpu\\anaconda3\\envs\\rasikcse\\lib\\site-packages (from pandas) (2.9.0.post0)\n",
      "Requirement already satisfied: pytz>=2020.1 in c:\\users\\aedpu\\anaconda3\\envs\\rasikcse\\lib\\site-packages (from pandas) (2024.1)\n",
      "Collecting tzdata>=2022.7 (from pandas)\n",
      "  Using cached tzdata-2024.1-py2.py3-none-any.whl.metadata (1.4 kB)\n",
      "Requirement already satisfied: six>=1.5 in c:\\users\\aedpu\\anaconda3\\envs\\rasikcse\\lib\\site-packages (from python-dateutil>=2.8.2->pandas) (1.16.0)\n",
      "Downloading pandas-2.2.2-cp311-cp311-win_amd64.whl (11.6 MB)\n",
      "   ---------------------------------------- 0.0/11.6 MB ? eta -:--:--\n",
      "   -- ------------------------------------- 0.6/11.6 MB 12.5 MB/s eta 0:00:01\n",
      "   --- ------------------------------------ 1.0/11.6 MB 10.6 MB/s eta 0:00:02\n",
      "   ----- ---------------------------------- 1.5/11.6 MB 11.8 MB/s eta 0:00:01\n",
      "   ------- -------------------------------- 2.1/11.6 MB 12.0 MB/s eta 0:00:01\n",
      "   --------- ------------------------------ 2.7/11.6 MB 11.3 MB/s eta 0:00:01\n",
      "   ----------- ---------------------------- 3.4/11.6 MB 12.8 MB/s eta 0:00:01\n",
      "   -------------- ------------------------- 4.3/11.6 MB 13.1 MB/s eta 0:00:01\n",
      "   ----------------- ---------------------- 5.2/11.6 MB 13.9 MB/s eta 0:00:01\n",
      "   --------------------- ------------------ 6.2/11.6 MB 15.2 MB/s eta 0:00:01\n",
      "   ------------------------ --------------- 7.1/11.6 MB 15.2 MB/s eta 0:00:01\n",
      "   --------------------------- ------------ 8.0/11.6 MB 15.6 MB/s eta 0:00:01\n",
      "   ------------------------------ --------- 8.9/11.6 MB 15.8 MB/s eta 0:00:01\n",
      "   --------------------------------- ------ 9.9/11.6 MB 16.2 MB/s eta 0:00:01\n",
      "   ------------------------------------- -- 10.9/11.6 MB 16.8 MB/s eta 0:00:01\n",
      "   ---------------------------------------  11.6/11.6 MB 17.7 MB/s eta 0:00:01\n",
      "   ---------------------------------------  11.6/11.6 MB 17.7 MB/s eta 0:00:01\n",
      "   ---------------------------------------  11.6/11.6 MB 17.7 MB/s eta 0:00:01\n",
      "   ---------------------------------------  11.6/11.6 MB 17.7 MB/s eta 0:00:01\n",
      "   ---------------------------------------  11.6/11.6 MB 17.7 MB/s eta 0:00:01\n",
      "   ---------------------------------------  11.6/11.6 MB 17.7 MB/s eta 0:00:01\n",
      "   ---------------------------------------  11.6/11.6 MB 17.7 MB/s eta 0:00:01\n",
      "   ---------------------------------------  11.6/11.6 MB 17.7 MB/s eta 0:00:01\n",
      "   ---------------------------------------  11.6/11.6 MB 17.7 MB/s eta 0:00:01\n",
      "   ---------------------------------------  11.6/11.6 MB 17.7 MB/s eta 0:00:01\n",
      "   ---------------------------------------  11.6/11.6 MB 17.7 MB/s eta 0:00:01\n",
      "   ---------------------------------------  11.6/11.6 MB 17.7 MB/s eta 0:00:01\n",
      "   ---------------------------------------  11.6/11.6 MB 17.7 MB/s eta 0:00:01\n",
      "   ---------------------------------------  11.6/11.6 MB 17.7 MB/s eta 0:00:01\n",
      "   ---------------------------------------  11.6/11.6 MB 17.7 MB/s eta 0:00:01\n",
      "   ---------------------------------------  11.6/11.6 MB 17.7 MB/s eta 0:00:01\n",
      "   ---------------------------------------  11.6/11.6 MB 17.7 MB/s eta 0:00:01\n",
      "   ---------------------------------------  11.6/11.6 MB 17.7 MB/s eta 0:00:01\n",
      "   ---------------------------------------  11.6/11.6 MB 17.7 MB/s eta 0:00:01\n",
      "   ---------------------------------------  11.6/11.6 MB 17.7 MB/s eta 0:00:01\n",
      "   ---------------------------------------  11.6/11.6 MB 17.7 MB/s eta 0:00:01\n",
      "   ---------------------------------------  11.6/11.6 MB 17.7 MB/s eta 0:00:01\n",
      "   ---------------------------------------  11.6/11.6 MB 17.7 MB/s eta 0:00:01\n",
      "   ---------------------------------------  11.6/11.6 MB 17.7 MB/s eta 0:00:01\n",
      "   ---------------------------------------  11.6/11.6 MB 17.7 MB/s eta 0:00:01\n",
      "   ---------------------------------------  11.6/11.6 MB 17.7 MB/s eta 0:00:01\n",
      "   ---------------------------------------  11.6/11.6 MB 17.7 MB/s eta 0:00:01\n",
      "   ---------------------------------------  11.6/11.6 MB 17.7 MB/s eta 0:00:01\n",
      "   ---------------------------------------  11.6/11.6 MB 17.7 MB/s eta 0:00:01\n",
      "   ---------------------------------------- 11.6/11.6 MB 5.4 MB/s eta 0:00:00\n",
      "Using cached tzdata-2024.1-py2.py3-none-any.whl (345 kB)\n",
      "Installing collected packages: tzdata, pandas\n",
      "Successfully installed pandas-2.2.2 tzdata-2024.1\n",
      "Note: you may need to restart the kernel to use updated packages.\n"
     ]
    }
   ],
   "source": [
    "pip install pandas"
   ]
  },
  {
   "cell_type": "code",
   "execution_count": 1,
   "id": "ec007a7e-9b71-4d04-a410-b0be18b035fd",
   "metadata": {},
   "outputs": [],
   "source": [
    "import numpy as np"
   ]
  },
  {
   "cell_type": "code",
   "execution_count": 2,
   "id": "1e1078e1-df22-4c9b-af1b-bca135add1dd",
   "metadata": {},
   "outputs": [
    {
     "data": {
      "text/plain": [
       "'2.0.1'"
      ]
     },
     "execution_count": 2,
     "metadata": {},
     "output_type": "execute_result"
    }
   ],
   "source": [
    "np.version.version"
   ]
  },
  {
   "cell_type": "markdown",
   "id": "10ac0479-89de-4bdb-8fce-af0b2a26af6f",
   "metadata": {},
   "source": [
    "\n",
    "# array"
   ]
  },
  {
   "cell_type": "code",
   "execution_count": 3,
   "id": "71323f22-69fa-42dc-8060-4bd49d303df3",
   "metadata": {},
   "outputs": [],
   "source": [
    "first_array = np.array([1,2,3])"
   ]
  },
  {
   "cell_type": "code",
   "execution_count": 4,
   "id": "edf9680e-634c-4a93-8d06-8916067d4b16",
   "metadata": {},
   "outputs": [
    {
     "name": "stdout",
     "output_type": "stream",
     "text": [
      "[1 2 3]\n"
     ]
    }
   ],
   "source": [
    "print(first_array)"
   ]
  },
  {
   "cell_type": "code",
   "execution_count": 5,
   "id": "94025e3f-f484-495a-b975-81893f11d55f",
   "metadata": {},
   "outputs": [
    {
     "data": {
      "text/plain": [
       "numpy.ndarray"
      ]
     },
     "execution_count": 5,
     "metadata": {},
     "output_type": "execute_result"
    }
   ],
   "source": [
    "type(first_array)"
   ]
  },
  {
   "cell_type": "code",
   "execution_count": 6,
   "id": "4ebe44fa-afd6-4a45-b207-a8f9c10680a3",
   "metadata": {},
   "outputs": [],
   "source": [
    "sec_array = np.array([1,2.0,345])"
   ]
  },
  {
   "cell_type": "code",
   "execution_count": 7,
   "id": "c869a0c7-4f32-4b77-8e59-78505898abb6",
   "metadata": {},
   "outputs": [
    {
     "data": {
      "text/plain": [
       "array([  1.,   2., 345.])"
      ]
     },
     "execution_count": 7,
     "metadata": {},
     "output_type": "execute_result"
    }
   ],
   "source": [
    "sec_array"
   ]
  },
  {
   "cell_type": "code",
   "execution_count": 8,
   "id": "b8e98f3e-5e0b-40a0-b85e-21d8836857bc",
   "metadata": {},
   "outputs": [
    {
     "data": {
      "text/plain": [
       "numpy.ndarray"
      ]
     },
     "execution_count": 8,
     "metadata": {},
     "output_type": "execute_result"
    }
   ],
   "source": [
    "type(sec_array)"
   ]
  },
  {
   "cell_type": "code",
   "execution_count": 9,
   "id": "55bc8f86-8f26-4cc7-9fe7-5cdae2c4920c",
   "metadata": {},
   "outputs": [],
   "source": [
    "trid_array = np.array([(2,3,4),(5,6,7)])"
   ]
  },
  {
   "cell_type": "code",
   "execution_count": 10,
   "id": "f638c39d-46c4-4c9c-ac5e-af5afaf988f0",
   "metadata": {},
   "outputs": [
    {
     "name": "stdout",
     "output_type": "stream",
     "text": [
      "[[2 3 4]\n",
      " [5 6 7]]\n"
     ]
    }
   ],
   "source": [
    "print(trid_array)"
   ]
  },
  {
   "cell_type": "code",
   "execution_count": 11,
   "id": "143b0619-7e76-4ea6-ac16-8a0886081e69",
   "metadata": {},
   "outputs": [],
   "source": [
    "tree_array = np.array([[(2,34,4),(2,4,6)],[(3,4,5),(7,8,9)]])"
   ]
  },
  {
   "cell_type": "code",
   "execution_count": 12,
   "id": "45c258fd-f1ba-4fe1-bd55-d58eda12c070",
   "metadata": {},
   "outputs": [
    {
     "name": "stdout",
     "output_type": "stream",
     "text": [
      "[[[ 2 34  4]\n",
      "  [ 2  4  6]]\n",
      "\n",
      " [[ 3  4  5]\n",
      "  [ 7  8  9]]]\n"
     ]
    }
   ],
   "source": [
    "print(tree_array)"
   ]
  },
  {
   "cell_type": "code",
   "execution_count": 15,
   "id": "934f5364-36e6-4faf-9f29-46d829a42721",
   "metadata": {},
   "outputs": [],
   "source": [
    "zero_array = np.zeros((9,8))"
   ]
  },
  {
   "cell_type": "code",
   "execution_count": 16,
   "id": "5c99ccb4-0deb-4ea9-97c4-ed780eb465b2",
   "metadata": {},
   "outputs": [
    {
     "name": "stdout",
     "output_type": "stream",
     "text": [
      "[[0. 0. 0. 0. 0. 0. 0. 0.]\n",
      " [0. 0. 0. 0. 0. 0. 0. 0.]\n",
      " [0. 0. 0. 0. 0. 0. 0. 0.]\n",
      " [0. 0. 0. 0. 0. 0. 0. 0.]\n",
      " [0. 0. 0. 0. 0. 0. 0. 0.]\n",
      " [0. 0. 0. 0. 0. 0. 0. 0.]\n",
      " [0. 0. 0. 0. 0. 0. 0. 0.]\n",
      " [0. 0. 0. 0. 0. 0. 0. 0.]\n",
      " [0. 0. 0. 0. 0. 0. 0. 0.]]\n"
     ]
    }
   ],
   "source": [
    "print(zero_array)"
   ]
  },
  {
   "cell_type": "code",
   "execution_count": 17,
   "id": "936c3717-908b-425f-a7f2-0d477dc128f9",
   "metadata": {},
   "outputs": [],
   "source": [
    "ones_array = np.ones((9,8))"
   ]
  },
  {
   "cell_type": "code",
   "execution_count": 18,
   "id": "0611ebdf-509c-416e-838c-b0f1f129f332",
   "metadata": {},
   "outputs": [
    {
     "name": "stdout",
     "output_type": "stream",
     "text": [
      "[[1. 1. 1. 1. 1. 1. 1. 1.]\n",
      " [1. 1. 1. 1. 1. 1. 1. 1.]\n",
      " [1. 1. 1. 1. 1. 1. 1. 1.]\n",
      " [1. 1. 1. 1. 1. 1. 1. 1.]\n",
      " [1. 1. 1. 1. 1. 1. 1. 1.]\n",
      " [1. 1. 1. 1. 1. 1. 1. 1.]\n",
      " [1. 1. 1. 1. 1. 1. 1. 1.]\n",
      " [1. 1. 1. 1. 1. 1. 1. 1.]\n",
      " [1. 1. 1. 1. 1. 1. 1. 1.]]\n"
     ]
    }
   ],
   "source": [
    "print(ones_array)"
   ]
  },
  {
   "cell_type": "code",
   "execution_count": 19,
   "id": "fac2439a-4cd5-407b-b145-72dbe0d79b4d",
   "metadata": {},
   "outputs": [],
   "source": [
    "spaced_num = np.linspace(0,35,25)"
   ]
  },
  {
   "cell_type": "code",
   "execution_count": 20,
   "id": "cc31e588-0812-4a5f-a916-530f0d59513b",
   "metadata": {},
   "outputs": [
    {
     "name": "stdout",
     "output_type": "stream",
     "text": [
      "[ 0.          1.45833333  2.91666667  4.375       5.83333333  7.29166667\n",
      "  8.75       10.20833333 11.66666667 13.125      14.58333333 16.04166667\n",
      " 17.5        18.95833333 20.41666667 21.875      23.33333333 24.79166667\n",
      " 26.25       27.70833333 29.16666667 30.625      32.08333333 33.54166667\n",
      " 35.        ]\n"
     ]
    }
   ],
   "source": [
    "print(spaced_num)"
   ]
  },
  {
   "cell_type": "code",
   "execution_count": 21,
   "id": "42985e81-37ea-4c49-90e2-21898e2eeaf0",
   "metadata": {},
   "outputs": [],
   "source": [
    "my_array = np.array([1,2,3])"
   ]
  },
  {
   "cell_type": "code",
   "execution_count": 22,
   "id": "3151557a-edb1-4be5-8572-59be9259c2e4",
   "metadata": {},
   "outputs": [
    {
     "name": "stdout",
     "output_type": "stream",
     "text": [
      "[1 2 3]\n"
     ]
    }
   ],
   "source": [
    "print(my_array)"
   ]
  },
  {
   "cell_type": "code",
   "execution_count": 23,
   "id": "3980f07c-5890-4b19-99b2-e4cd72e99eed",
   "metadata": {},
   "outputs": [],
   "source": [
    "arr_ones = np.ones((2,2))"
   ]
  },
  {
   "cell_type": "code",
   "execution_count": 24,
   "id": "cfc9e6a2-112f-4eec-8164-bb4eb5b9a2d3",
   "metadata": {},
   "outputs": [
    {
     "name": "stdout",
     "output_type": "stream",
     "text": [
      "[[1. 1.]\n",
      " [1. 1.]]\n"
     ]
    }
   ],
   "source": [
    "print(arr_ones)"
   ]
  },
  {
   "cell_type": "code",
   "execution_count": 25,
   "id": "7756d46b-66bc-4a66-9afd-fec1823c7eae",
   "metadata": {},
   "outputs": [],
   "source": [
    "my_matrix = np.array([(11,23,45),(34,56,78)])"
   ]
  },
  {
   "cell_type": "code",
   "execution_count": 26,
   "id": "58770e76-dc20-4de4-90c6-a0bf902ee9ee",
   "metadata": {},
   "outputs": [
    {
     "name": "stdout",
     "output_type": "stream",
     "text": [
      "[[11 23 45]\n",
      " [34 56 78]]\n"
     ]
    }
   ],
   "source": [
    "print(my_matrix)"
   ]
  },
  {
   "cell_type": "code",
   "execution_count": 27,
   "id": "cafc2c4c-0555-47d4-8b71-1bb9348446d5",
   "metadata": {},
   "outputs": [],
   "source": [
    "matrix_transpose = np.transpose(my_matrix)"
   ]
  },
  {
   "cell_type": "code",
   "execution_count": 29,
   "id": "bc7698cb-8103-49d6-b1fe-c503b05d08ee",
   "metadata": {},
   "outputs": [
    {
     "name": "stdout",
     "output_type": "stream",
     "text": [
      "[[11 34]\n",
      " [23 56]\n",
      " [45 78]]\n"
     ]
    }
   ],
   "source": [
    "print(matrix_transpose)"
   ]
  },
  {
   "cell_type": "code",
   "execution_count": 30,
   "id": "848315f6-4ce7-4d78-a411-a1de53630417",
   "metadata": {},
   "outputs": [
    {
     "data": {
      "text/plain": [
       "array([11, 34, 23, 56, 45, 78])"
      ]
     },
     "execution_count": 30,
     "metadata": {},
     "output_type": "execute_result"
    }
   ],
   "source": [
    "matrix_transpose.ravel()"
   ]
  },
  {
   "cell_type": "code",
   "execution_count": 1,
   "id": "f52fa5dc-196f-430b-a720-e1084b866540",
   "metadata": {},
   "outputs": [],
   "source": [
    "import pandas as pd"
   ]
  },
  {
   "cell_type": "code",
   "execution_count": 2,
   "id": "86a33d54-e9c3-48cd-83f7-93bf39b5a443",
   "metadata": {},
   "outputs": [
    {
     "ename": "AttributeError",
     "evalue": "module 'pandas' has no attribute '_version_'",
     "output_type": "error",
     "traceback": [
      "\u001b[1;31m---------------------------------------------------------------------------\u001b[0m",
      "\u001b[1;31mAttributeError\u001b[0m                            Traceback (most recent call last)",
      "Cell \u001b[1;32mIn[2], line 1\u001b[0m\n\u001b[1;32m----> 1\u001b[0m pd\u001b[38;5;241m.\u001b[39m_version_\n",
      "\u001b[1;31mAttributeError\u001b[0m: module 'pandas' has no attribute '_version_'"
     ]
    }
   ],
   "source": [
    "pd._version_"
   ]
  },
  {
   "cell_type": "code",
   "execution_count": 3,
   "id": "fac2e41c-2300-4185-bf86-a64b5611c10a",
   "metadata": {},
   "outputs": [
    {
     "data": {
      "text/plain": [
       "'2.2.2'"
      ]
     },
     "execution_count": 3,
     "metadata": {},
     "output_type": "execute_result"
    }
   ],
   "source": [
    "pd.__version__"
   ]
  },
  {
   "cell_type": "code",
   "execution_count": 2,
   "id": "7d83e876-138e-45f6-a128-09e29f5e9367",
   "metadata": {},
   "outputs": [
    {
     "ename": "AttributeError",
     "evalue": "module 'pandas' has no attribute 'series'",
     "output_type": "error",
     "traceback": [
      "\u001b[1;31m---------------------------------------------------------------------------\u001b[0m",
      "\u001b[1;31mAttributeError\u001b[0m                            Traceback (most recent call last)",
      "Cell \u001b[1;32mIn[2], line 1\u001b[0m\n\u001b[1;32m----> 1\u001b[0m a1\u001b[38;5;241m=\u001b[39mpd\u001b[38;5;241m.\u001b[39mseries([\u001b[38;5;124m'\u001b[39m\u001b[38;5;124mrakshana\u001b[39m\u001b[38;5;124m'\u001b[39m,\u001b[38;5;124m'\u001b[39m\u001b[38;5;124mguptha\u001b[39m\u001b[38;5;124m'\u001b[39m,\u001b[38;5;124m'\u001b[39m\u001b[38;5;124msanthiya\u001b[39m\u001b[38;5;124m'\u001b[39m,\u001b[38;5;124m'\u001b[39m\u001b[38;5;124mguhan\u001b[39m\u001b[38;5;124m'\u001b[39m,\u001b[38;5;124m'\u001b[39m\u001b[38;5;124mrasik\u001b[39m\u001b[38;5;124m'\u001b[39m],index\u001b[38;5;241m=\u001b[39m[\u001b[38;5;241m0\u001b[39m,\u001b[38;5;241m1\u001b[39m,\u001b[38;5;241m2\u001b[39m,\u001b[38;5;241m3\u001b[39m,\u001b[38;5;241m4\u001b[39m])\n",
      "\u001b[1;31mAttributeError\u001b[0m: module 'pandas' has no attribute 'series'"
     ]
    }
   ],
   "source": [
    "a1=pd.series(['rakshana','guptha','santhiya','guhan','rasik'],index=[0,1,2,3,4])"
   ]
  },
  {
   "cell_type": "code",
   "execution_count": null,
   "id": "eb1b6c10-bf74-41da-9b51-f2e8a703b504",
   "metadata": {},
   "outputs": [],
   "source": []
  },
  {
   "cell_type": "code",
   "execution_count": null,
   "id": "1b06d9bb-b855-4c4d-9bc6-1f6fa315b252",
   "metadata": {},
   "outputs": [],
   "source": []
  }
 ],
 "metadata": {
  "kernelspec": {
   "display_name": "Python 3 (ipykernel)",
   "language": "python",
   "name": "python3"
  },
  "language_info": {
   "codemirror_mode": {
    "name": "ipython",
    "version": 3
   },
   "file_extension": ".py",
   "mimetype": "text/x-python",
   "name": "python",
   "nbconvert_exporter": "python",
   "pygments_lexer": "ipython3",
   "version": "3.11.9"
  }
 },
 "nbformat": 4,
 "nbformat_minor": 5
}
